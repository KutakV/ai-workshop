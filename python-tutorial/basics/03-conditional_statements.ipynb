{
 "cells": [
  {
   "cell_type": "markdown",
   "metadata": {},
   "source": [
    "# `if`, `else`, and `elif`\n",
    "\n",
    "In Python we can perform logic check statements using the `if`, `else`, and `elif` (else if) keyword statements"
   ]
  },
  {
   "cell_type": "markdown",
   "metadata": {},
   "source": [
    "## `if`\n",
    "\n",
    "`if` statements work as you might expect. You can check for when some conditional statement holds and, in that case, take some specific action"
   ]
  },
  {
   "cell_type": "code",
   "execution_count": 1,
   "metadata": {},
   "outputs": [
    {
     "name": "stdout",
     "output_type": "stream",
     "text": [
      "Hello\n"
     ]
    }
   ],
   "source": [
    "if True:\n",
    "\tprint('Hello')"
   ]
  },
  {
   "cell_type": "code",
   "execution_count": 2,
   "metadata": {},
   "outputs": [],
   "source": [
    "if False:\n",
    "\tprint('Hello')"
   ]
  },
  {
   "cell_type": "code",
   "execution_count": 3,
   "metadata": {},
   "outputs": [
    {
     "name": "stdout",
     "output_type": "stream",
     "text": [
      "The grass is wet\n"
     ]
    }
   ],
   "source": [
    "did_it_rain = True\n",
    "if did_it_rain:\n",
    "\tprint('The grass is wet')"
   ]
  },
  {
   "cell_type": "markdown",
   "metadata": {},
   "source": [
    "## Conditional statements (comparing objects)\n",
    "\n",
    "`if` statements will only apply to a boolean and so a conditional statement must return a boolean. We already saw a number of ways to compare objects earlier including\n",
    "\n",
    "* `==` (equals)\n",
    "* `!=` (not equals)\n",
    "* `>` (greater than)\n",
    "* `>=` (greater than or equal to)\n",
    "* `<` (less than)\n",
    "* `<=` (less than or equal to)"
   ]
  },
  {
   "cell_type": "code",
   "execution_count": 6,
   "metadata": {},
   "outputs": [
    {
     "name": "stdout",
     "output_type": "stream",
     "text": [
      "-200\n"
     ]
    }
   ],
   "source": [
    "# See if you can figure out what print(b) will display and then execute the cell to find out\n",
    "\n",
    "a = 1\n",
    "b = 3\n",
    "\n",
    "if a < 0:\n",
    "\tb = 200\n",
    "if a > 0:\n",
    "\tb = -200\n",
    "if a == 0:\n",
    "\tb = 0\n",
    "\n",
    "print(b)"
   ]
  },
  {
   "cell_type": "code",
   "execution_count": null,
   "metadata": {},
   "outputs": [
    {
     "name": "stdout",
     "output_type": "stream",
     "text": [
      "Hello World\n"
     ]
    }
   ],
   "source": [
    "# See if you can figure out what print(a, b) will display and then execute the cell to find out\n",
    "\n",
    "a = 'Hello'\n",
    "\n",
    "if a == 'hello':\n",
    "\tb = 'world'\n",
    "if a == 'Hello':\n",
    "\tb = 'World'\n",
    "\n",
    "print(a, b)"
   ]
  },
  {
   "cell_type": "code",
   "execution_count": 9,
   "metadata": {},
   "outputs": [
    {
     "name": "stdout",
     "output_type": "stream",
     "text": [
      "0\n"
     ]
    }
   ],
   "source": [
    "# See if you can figure out what print(b) will display and then execute the cell to find out\n",
    "\n",
    "a = 5\n",
    "\n",
    "if a < 10:\n",
    "\tb = 15\n",
    "if a > 10:\n",
    "\tb = 150\n",
    "if a < 100:\n",
    "\tb = 0\n",
    "\n",
    "print(b)"
   ]
  },
  {
   "cell_type": "markdown",
   "metadata": {},
   "source": [
    "A conditional statement can also be created first and assigned to a variable that is then passed to `if`"
   ]
  },
  {
   "cell_type": "code",
   "execution_count": 11,
   "metadata": {},
   "outputs": [
    {
     "name": "stdout",
     "output_type": "stream",
     "text": [
      "True\n",
      "Condition 1 holds\n",
      "False\n"
     ]
    }
   ],
   "source": [
    "a = 1\n",
    "b = 3\n",
    "\n",
    "cond = a+b<25\n",
    "print(cond)\n",
    "if cond:\n",
    "\tprint('Condition 1 holds')\n",
    "\n",
    "cond = a==b\n",
    "print(cond)\n",
    "if cond:\n",
    "\tprint('Condition 2 holds')"
   ]
  },
  {
   "cell_type": "markdown",
   "metadata": {},
   "source": [
    "## `else`\n",
    "\n",
    "The `else` keyword statement allows us to take another action only when the if statement does not hold"
   ]
  },
  {
   "cell_type": "code",
   "execution_count": 12,
   "metadata": {},
   "outputs": [
    {
     "name": "stdout",
     "output_type": "stream",
     "text": [
      "False\n",
      "Condition does NOT hold\n"
     ]
    }
   ],
   "source": [
    "a = 1\n",
    "b = 3\n",
    "\n",
    "cond = a==b\n",
    "print(cond)\n",
    "if cond:\n",
    "\tprint('Condition holds')\n",
    "else:\n",
    "\tprint('Condition does NOT hold')"
   ]
  },
  {
   "cell_type": "code",
   "execution_count": 13,
   "metadata": {},
   "outputs": [
    {
     "name": "stdout",
     "output_type": "stream",
     "text": [
      "15\n"
     ]
    }
   ],
   "source": [
    "# See if you can figure out what print(b) will display and then execute the cell to find out\n",
    "\n",
    "a = 5\n",
    "\n",
    "if a < 10:\n",
    "\tb = 15\n",
    "else:\n",
    "\tif a > 10:\n",
    "\t\tb = 150\n",
    "\telse:\n",
    "\t\tif a < 100:\n",
    "\t\t\tb = 0\n",
    "\n",
    "print(b)"
   ]
  },
  {
   "cell_type": "markdown",
   "metadata": {},
   "source": [
    "Note that the logic above may look very similar to a previous cell were we saw a different display for b. Before, we just did a series of if statements so the condition `a<10` holds setting `b=15`, then the condition `a>10` does not hold so nothing changes, and finally condition `a<100` also holds so we overwrite b with setting `b=15`. Instead, when we include `else` statements as we have done here the condition `a<10` holds so we set `b=15` since this condition holds nothing within the `else` block is run"
   ]
  },
  {
   "cell_type": "markdown",
   "metadata": {},
   "source": [
    "## `elif` (else if)\n",
    "\n",
    "`elif` is an *else if* keyword statement allowing us to perform another check within the `else` block. For instance, we can rewrite the previous Python cell as"
   ]
  },
  {
   "cell_type": "code",
   "execution_count": 14,
   "metadata": {},
   "outputs": [
    {
     "name": "stdout",
     "output_type": "stream",
     "text": [
      "15\n"
     ]
    }
   ],
   "source": [
    "# See if you can figure out what print(b) will display and then execute the cell to find out\n",
    "\n",
    "a = 5\n",
    "\n",
    "if a < 10:\n",
    "\tb = 15\n",
    "elif a > 10:\n",
    "\tb = 150\n",
    "elif a < 100:\n",
    "\tb = 0\n",
    "\n",
    "print(b)"
   ]
  },
  {
   "cell_type": "markdown",
   "metadata": {},
   "source": [
    "as you can see we eliminate a lot of unecessary indentation that can make code difficult to read. A soft rule of thumb is to try to stay under 3-4 levels of indentation...more than that produces *code smells*, which is code that is difficult to read and is often more likely to have problems under the surface"
   ]
  },
  {
   "cell_type": "code",
   "execution_count": null,
   "metadata": {},
   "outputs": [],
   "source": []
  },
  {
   "cell_type": "markdown",
   "metadata": {},
   "source": []
  }
 ],
 "metadata": {
  "kernelspec": {
   "display_name": "base",
   "language": "python",
   "name": "python3"
  },
  "language_info": {
   "codemirror_mode": {
    "name": "ipython",
    "version": 3
   },
   "file_extension": ".py",
   "mimetype": "text/x-python",
   "name": "python",
   "nbconvert_exporter": "python",
   "pygments_lexer": "ipython3",
   "version": "3.11.7"
  }
 },
 "nbformat": 4,
 "nbformat_minor": 2
}
