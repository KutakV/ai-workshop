{
 "cells": [
  {
   "cell_type": "markdown",
   "metadata": {},
   "source": [
    "# Files, Paths, and OS\n",
    "\n",
    "Through Python, we are able to load in, make changes to, and/or save files to our local system.\n",
    "\n",
    "Every file has:\n",
    "1. A name (e.g., `06-files.ipynb`) that ends with an extension (e.g., `.ipynb`) describing the content\n",
    "2. A location or path (i.e., the directory, or drive and folders, in which you file resides)\n",
    "3. (Possible empty) content storred in 8-bit bytes"
   ]
  },
  {
   "cell_type": "code",
   "execution_count": null,
   "metadata": {},
   "outputs": [],
   "source": [
    "import os # built-in package to using operating system dependent functionally, such as accessing files"
   ]
  },
  {
   "cell_type": "markdown",
   "metadata": {},
   "source": [
    "## Getting to and modifying paths"
   ]
  },
  {
   "cell_type": "markdown",
   "metadata": {},
   "source": [
    "Get the current directory"
   ]
  },
  {
   "cell_type": "code",
   "execution_count": null,
   "metadata": {},
   "outputs": [],
   "source": [
    "current_directory = os.getcwd() # Get the path/directory in which this file resides\n",
    "print(current_directory)"
   ]
  },
  {
   "cell_type": "markdown",
   "metadata": {},
   "source": [
    "Add folders or a file to a path"
   ]
  },
  {
   "cell_type": "code",
   "execution_count": null,
   "metadata": {},
   "outputs": [],
   "source": [
    "path_to_this_notebook = os.path.join(os.getcwd(), '06-files.ipynb') # add to a path with os.path\n",
    "print(path_to_this_notebook)"
   ]
  },
  {
   "cell_type": "code",
   "execution_count": null,
   "metadata": {},
   "outputs": [],
   "source": [
    "path_to_data_folder = os.path.join(os.getcwd(), '..', '..', 'data') # each '..' says to go back one folder\n",
    "print(path_to_data_folder) # still has the '..'\n",
    "print(os.path.realpath(path_to_data_folder)) # view the actual path with os.path.realpath"
   ]
  },
  {
   "cell_type": "markdown",
   "metadata": {},
   "source": [
    "## Read in a (text) file\n",
    "\n",
    "Depending on the type of file there are different ways to read in a files content. For text or text-based files we will use `open`"
   ]
  },
  {
   "cell_type": "markdown",
   "metadata": {},
   "source": [
    "Go to the *data* folder in this repository and open the *lipsum.txt* text file. You should see some general information on lipsum text. Let us bring that text into Python."
   ]
  },
  {
   "cell_type": "code",
   "execution_count": null,
   "metadata": {},
   "outputs": [],
   "source": [
    "path_to_data_folder = os.path.join(os.getcwd(), '..', '..', 'data')\n",
    "path_to_txt_file = os.path.join(path_to_data_folder, 'lipsum.txt')\n",
    "\n",
    "print(os.path.realpath(path_to_txt_file))"
   ]
  },
  {
   "cell_type": "code",
   "execution_count": null,
   "metadata": {},
   "outputs": [],
   "source": [
    "with open(path_to_txt_file, 'r') as f: # the input 'r' denotes read\n",
    "\tcontent = f.read()"
   ]
  },
  {
   "cell_type": "code",
   "execution_count": null,
   "metadata": {},
   "outputs": [],
   "source": [
    "print(content) # the text from lipsum.txt"
   ]
  },
  {
   "cell_type": "code",
   "execution_count": null,
   "metadata": {},
   "outputs": [],
   "source": [
    "with open(path_to_txt_file) as f: # Note the input 'r' above was optional, if omitted the file, by default, is opened in read mode\n",
    "\tcontent = f.read()\n",
    "\n",
    "print(content)"
   ]
  },
  {
   "cell_type": "markdown",
   "metadata": {},
   "source": [
    "Python reads in text files as string objects. So we can work with them just like any other string. For example, lets make the following changes\n",
    "1. Added another sentence to the text\n",
    "2. Replace all occurances of *is* with *is not*"
   ]
  },
  {
   "cell_type": "code",
   "execution_count": null,
   "metadata": {},
   "outputs": [],
   "source": [
    "new_sentence = 'Here is another sentence we want to add to the text document.'\n",
    "modified_content = content + '\\n\\n' + new_sentence # we can combine strings with the + operator. Remember each \\n adds a line break to a string\n",
    "print(modified_content)"
   ]
  },
  {
   "cell_type": "code",
   "execution_count": null,
   "metadata": {},
   "outputs": [],
   "source": [
    "modified_content = f'{content}\\n\\n{new_sentence}' # We can also combine strings by putting each into a single formatted string (this modification is equivallent to the above)\n",
    "print(modified_content)"
   ]
  },
  {
   "cell_type": "code",
   "execution_count": null,
   "metadata": {},
   "outputs": [],
   "source": [
    "modified_content = modified_content.replace('is', 'is not') # strings have a replace method that will change all occurances of the first input to the second input\n",
    "print(modified_content)"
   ]
  },
  {
   "cell_type": "markdown",
   "metadata": {},
   "source": [
    "## Saving a (text) file\n",
    "\n",
    "Similar to reading in a file, there are different ways to save a filed depending on the type of file. For text or text-based files we still use `open`\n",
    "\n",
    "Lets save the changes we made to the *lipsum.txt* text that we read in"
   ]
  },
  {
   "cell_type": "code",
   "execution_count": null,
   "metadata": {},
   "outputs": [],
   "source": [
    "with open(path_to_txt_file, 'w') as f: # the input 'w' denotes write\n",
    "\tf.write(modified_content)"
   ]
  },
  {
   "cell_type": "markdown",
   "metadata": {},
   "source": [
    "Open the *lipsum.txt* text file again to see the new modified text"
   ]
  },
  {
   "cell_type": "markdown",
   "metadata": {},
   "source": [
    "We can change the specific file path to save our modified text in another document instead"
   ]
  },
  {
   "cell_type": "code",
   "execution_count": null,
   "metadata": {},
   "outputs": [],
   "source": [
    "path_to_data_folder = os.path.join(os.getcwd(), '..', '..', 'data')\n",
    "path_to_new_txt_file = os.path.join(path_to_data_folder, 'lipsum2.txt')\n",
    "\n",
    "with open(path_to_new_txt_file, 'w') as f: # the input 'w' denotes write\n",
    "\tf.write(modified_content)"
   ]
  },
  {
   "cell_type": "markdown",
   "metadata": {},
   "source": [
    "A new file *lipsum2.txt* should have been created. If you open it we can view the new modified text"
   ]
  },
  {
   "cell_type": "markdown",
   "metadata": {},
   "source": [
    "We can also append new text to a document"
   ]
  },
  {
   "cell_type": "code",
   "execution_count": null,
   "metadata": {},
   "outputs": [],
   "source": [
    "with open(path_to_new_txt_file, 'a') as f: # the input 'a' denotes append\n",
    "\tf.write(content)"
   ]
  },
  {
   "cell_type": "markdown",
   "metadata": {},
   "source": [
    "*lipsum2.txt* should now have text from the `modified_content` string followed by the text from the `content` string"
   ]
  },
  {
   "cell_type": "markdown",
   "metadata": {},
   "source": [
    "## Reading in a CSV\n",
    "\n",
    "Python does have a built-in module `csv` to read in data from a CSV file. However, I strongly recommend using the `pandas` package instead\n",
    "\n",
    "Check out the [into pandas tutorial notebook](../../pandas-tutorial/1-pandas-beginnings.ipynb) for an introduction to some pandas basics"
   ]
  },
  {
   "cell_type": "code",
   "execution_count": null,
   "metadata": {},
   "outputs": [],
   "source": [
    "import pandas as pd"
   ]
  },
  {
   "cell_type": "code",
   "execution_count": null,
   "metadata": {},
   "outputs": [],
   "source": [
    "path_to_data_folder = os.path.join(os.getcwd(), '..', '..', 'data')\n",
    "path_to_csv = os.path.join(path_to_data_folder, 'tsa_passenger_throughput.csv')\n",
    "print(os.path.realpath(path_to_csv))"
   ]
  },
  {
   "cell_type": "code",
   "execution_count": null,
   "metadata": {},
   "outputs": [],
   "source": [
    "tsa_data = pd.read_csv(path_to_csv) # read in the data"
   ]
  },
  {
   "cell_type": "code",
   "execution_count": null,
   "metadata": {},
   "outputs": [],
   "source": [
    "tsa_data # view a snapshot of the data"
   ]
  },
  {
   "cell_type": "markdown",
   "metadata": {},
   "source": [
    "We now have the data, storred as a `pandas.DataFrame`, within Python where we can perform any analysis or modification necessary\n",
    "\n",
    "Lets only keep the data where the 2021 traveler throughoutput is above 1 million"
   ]
  },
  {
   "cell_type": "code",
   "execution_count": null,
   "metadata": {},
   "outputs": [],
   "source": [
    "mask = tsa_data['2021 Traveler Throughput']>=1000000 # creates a boolean mask where each row element in the '2021 Traveler Throughput' column is checked against the condition >= 1000000"
   ]
  },
  {
   "cell_type": "code",
   "execution_count": null,
   "metadata": {},
   "outputs": [],
   "source": [
    "tsa_data_2021 = tsa_data[mask] # filter out the data"
   ]
  },
  {
   "cell_type": "code",
   "execution_count": null,
   "metadata": {},
   "outputs": [],
   "source": [
    "tsa_data_2021"
   ]
  },
  {
   "cell_type": "markdown",
   "metadata": {},
   "source": [
    "## Saving a CSV\n",
    "\n",
    "Lets save the filtered data from above"
   ]
  },
  {
   "cell_type": "code",
   "execution_count": null,
   "metadata": {},
   "outputs": [],
   "source": [
    "path_to_data_folder = os.path.join(os.getcwd(), '..', '..', 'data')\n",
    "path_to_new_csv = os.path.join(path_to_data_folder, 'tsa_passenger_1mil_throughput.csv')\n",
    "print(os.path.realpath(path_to_csv))"
   ]
  },
  {
   "cell_type": "code",
   "execution_count": null,
   "metadata": {},
   "outputs": [],
   "source": [
    "tsa_data_2021.to_csv(path_to_new_csv, index=False)"
   ]
  },
  {
   "cell_type": "markdown",
   "metadata": {},
   "source": [
    "In the *data* folder you should now have a new csv file *tsa_passenger_1mil_throughput.csv*"
   ]
  },
  {
   "cell_type": "markdown",
   "metadata": {},
   "source": [
    "## `Pickle`: Saving and reading in other Python objects\n",
    "\n",
    "Python has a built-in module named `pickle` that allows for saving, and subsequently reading in, almost any object in Python including an executible Python script itself!\n",
    "\n",
    "We will again use the `open` function from earlier in a very similar way"
   ]
  },
  {
   "cell_type": "code",
   "execution_count": null,
   "metadata": {},
   "outputs": [],
   "source": [
    "import pickle"
   ]
  },
  {
   "cell_type": "code",
   "execution_count": null,
   "metadata": {},
   "outputs": [],
   "source": [
    "example_dict = {\n",
    "  \"name\": \"Alice\",\n",
    "  \"age\": 20,\n",
    "  \"major\": \"Computer Science\",\n",
    "  \"courses\": [\"Calculus\", \"Data Structures\", \"Algorithms\"]\n",
    "}"
   ]
  },
  {
   "cell_type": "code",
   "execution_count": null,
   "metadata": {},
   "outputs": [],
   "source": [
    "print(example_dict)"
   ]
  },
  {
   "cell_type": "markdown",
   "metadata": {},
   "source": [
    "Save the dictionary"
   ]
  },
  {
   "cell_type": "code",
   "execution_count": null,
   "metadata": {},
   "outputs": [],
   "source": [
    "path_to_save = os.path.join(os.getcwd(), 'example_dictionary.pkl') # pickle files have the .pkl extension\n",
    "print(path_to_save)"
   ]
  },
  {
   "cell_type": "code",
   "execution_count": null,
   "metadata": {},
   "outputs": [],
   "source": [
    "with open(path_to_save, 'wb') as f: # 'wb' is short for write binary. The b is necessary to write to a pickle file\n",
    "\tpickle.dump(example_dict, f)"
   ]
  },
  {
   "cell_type": "markdown",
   "metadata": {},
   "source": [
    "Read in the dictionary"
   ]
  },
  {
   "cell_type": "code",
   "execution_count": null,
   "metadata": {},
   "outputs": [],
   "source": [
    "with open(path_to_save, 'rb') as f: # 'rb' is short for read binary. The b is necessary to read a pickle file\n",
    "\tloaded_dictionary = pickle.load(f)"
   ]
  },
  {
   "cell_type": "code",
   "execution_count": null,
   "metadata": {},
   "outputs": [],
   "source": [
    "print(loaded_dictionary)"
   ]
  },
  {
   "cell_type": "markdown",
   "metadata": {},
   "source": [
    "A downside of pickle files is that they storred as a binary file and are not human readable. If you open the *example_dictionary.pkl* file you will see a jumbled mess of text and characters"
   ]
  },
  {
   "cell_type": "markdown",
   "metadata": {},
   "source": [
    "# Exercises"
   ]
  },
  {
   "cell_type": "markdown",
   "metadata": {},
   "source": [
    "1. Write a function named *read_text_file* that takes one input, the path to a text file, reads in the text from this file, and returns the content."
   ]
  },
  {
   "cell_type": "code",
   "execution_count": null,
   "metadata": {},
   "outputs": [],
   "source": []
  },
  {
   "cell_type": "markdown",
   "metadata": {},
   "source": [
    "2. Use your function from Exercise 1 to read in the SQL text in the file *example_sql_select.sql*. Print out the sql statement."
   ]
  },
  {
   "cell_type": "code",
   "execution_count": null,
   "metadata": {},
   "outputs": [],
   "source": []
  },
  {
   "cell_type": "markdown",
   "metadata": {},
   "source": [
    "3. Change the `where` clause in the read in SQL string to check where price is greater than $50"
   ]
  },
  {
   "cell_type": "code",
   "execution_count": null,
   "metadata": {},
   "outputs": [],
   "source": []
  },
  {
   "cell_type": "markdown",
   "metadata": {},
   "source": [
    "4. Save the modified SQL text into a file named *modified_example_sql_select.sql*"
   ]
  },
  {
   "cell_type": "code",
   "execution_count": null,
   "metadata": {},
   "outputs": [],
   "source": []
  }
 ],
 "metadata": {
  "kernelspec": {
   "display_name": "base",
   "language": "python",
   "name": "python3"
  },
  "language_info": {
   "codemirror_mode": {
    "name": "ipython",
    "version": 3
   },
   "file_extension": ".py",
   "mimetype": "text/x-python",
   "name": "python",
   "nbconvert_exporter": "python",
   "pygments_lexer": "ipython3",
   "version": "3.11.7"
  }
 },
 "nbformat": 4,
 "nbformat_minor": 2
}
