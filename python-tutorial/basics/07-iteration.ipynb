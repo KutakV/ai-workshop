{
 "cells": [
  {
   "cell_type": "markdown",
   "metadata": {},
   "source": [
    "# Iteration\n",
    "\n",
    "In programming, **iteration** or a **loop** is the process of repeating some operation(s) multiple times. These unlock a major potential of programming as we can automate a variety of repeatable actions including, for example, processing many collections of data."
   ]
  },
  {
   "cell_type": "markdown",
   "metadata": {},
   "source": [
    "# `for` loop\n",
    "\n",
    "A `for` loop is an iteration repeated for each element in some iterable python object. For instance, repeating an action for each number in the list [0, 1, 2]. \n",
    "\n",
    "`for` loops are written with the structure:\n",
    "\n",
    "<center> for &lt;variable-name(s)&gt; in &lt;iterible object&gt;: </center>"
   ]
  },
  {
   "cell_type": "code",
   "execution_count": null,
   "metadata": {},
   "outputs": [],
   "source": [
    "total = 0\n",
    "for num in [0, 1, 2]: # for each entry in the list [0, 1, 2], set variable num to be equal to the entry then perform the indented actions below\n",
    "\tprint(f'num = {num}') # print num\n",
    "\ttotal += num\n",
    "print(f'total = {total}')"
   ]
  },
  {
   "cell_type": "markdown",
   "metadata": {},
   "source": [
    "Rather than providing a list of numbers to iterate through as we did above we can use the built-in function `range(n)` which creates an iterable python object of the numbers 0 through n-1"
   ]
  },
  {
   "cell_type": "code",
   "execution_count": null,
   "metadata": {},
   "outputs": [],
   "source": [
    "total = 0\n",
    "for num in range(10): # for each number 0, 1, ..., 9, set variable num to be equal to the entry then perform the indented actions below\n",
    "\tprint(f'num = {num}') # print num\n",
    "\ttotal += num\n",
    "print(f'total = {total}')"
   ]
  },
  {
   "cell_type": "code",
   "execution_count": null,
   "metadata": {},
   "outputs": [],
   "source": [
    "# What do you think will be the output from this cell? Once you have an idea run the cell to see if you are correct\n",
    "fruits = ['apple', 'orange', 'cherry']\n",
    "for fruit in fruits:\n",
    "\tprint(fruit)"
   ]
  },
  {
   "cell_type": "code",
   "execution_count": null,
   "metadata": {},
   "outputs": [],
   "source": [
    "# What do you think will be the output from this cell? Once you have an idea run the cell to see if you are correct\n",
    "for x in 'apple':\n",
    "\tprint(x)"
   ]
  },
  {
   "cell_type": "markdown",
   "metadata": {},
   "source": [
    "Loops can be nested and when they are the loops run inside to out. That is, the first iterate for each outer loop is set and all iterations for the inner-most loop run then the second to inner-most loop is iterated by one and all iterations for the inner-most loop run again, and so on"
   ]
  },
  {
   "cell_type": "code",
   "execution_count": null,
   "metadata": {},
   "outputs": [],
   "source": [
    "# What do you think will be the output from this cell? Once you have an idea run the cell to see if you are correct\n",
    "\n",
    "adjs = ['large', 'bright', 'tasty']\n",
    "fruits = ['apple', 'cherry', 'orange']\n",
    "\n",
    "for adj in adjs: # select adjective\n",
    "\tfor fruit in fruits: # iterate through every fruit for the selected adjective\n",
    "\t\tprint(adj, fruit)"
   ]
  },
  {
   "cell_type": "markdown",
   "metadata": {},
   "source": [
    "# `while` loop\n",
    "\n",
    "A `while` loop is an iteration repeated until a conditional statement becomes `False`.\n",
    "\n",
    "`while` loops are written with the structure:\n",
    "\n",
    "<center> while &lt;conditional-statement&gt;: </center>"
   ]
  },
  {
   "cell_type": "code",
   "execution_count": null,
   "metadata": {},
   "outputs": [],
   "source": [
    "x = 0 # start with x at 0\n",
    "while x < 10: # while x is less than 10\n",
    "\tprint(x) # print x\n",
    "\tx = x+1 # increment x by one"
   ]
  },
  {
   "cell_type": "markdown",
   "metadata": {},
   "source": [
    "In the above cell, make the following changes and for each change, predict what you think the output will be then rerun the cell to see if you were correct:\n",
    "1. Change `x = x+1` to `x = x+3`\n",
    "2. Change `x = x+1` to `x = 2*x+1`\n",
    "3. Change `x = x+1` to `x = 5*x`"
   ]
  },
  {
   "cell_type": "markdown",
   "metadata": {},
   "source": [
    "*Note, with the changes made in 3, the condition `x < 10` is never satisfied so the loop will run indenfinitely, which we do not want. Click the `interupt` box in the top left area of VS code to manually stop the code. It is crucial to verify that the condition statement you set in a `while` loop will indeed be eventually satisfied through the repeated actions inside of the `while` loop body to avoid an infinite loop."
   ]
  },
  {
   "cell_type": "code",
   "execution_count": null,
   "metadata": {},
   "outputs": [],
   "source": [
    "its_raining = True\n",
    "while its_raining:\n",
    "    print(\"It's raining!\")\n",
    "    answer = input(\"Is it still raining? (Y/N): \").lower()\n",
    "    if answer == 'y':\n",
    "        print(\"We've been needing this rain...\")\n",
    "    elif answer == 'n':\n",
    "        its_raining = False     # end the while loop\n",
    "    else:\n",
    "        print(\"Enter Y or N next time.\")\n",
    "print(\"It's a bright sunshiny day!\")"
   ]
  },
  {
   "cell_type": "markdown",
   "metadata": {},
   "source": [
    "Iteration is crucial for most involved programming projects. Next, we will import a basic Tic Tac Toe game from the file *tictactoe.py* to try out (the Jupyter Notebook console can sometime behave funny when displaying objects. If the game board is not updating, open and run the *tictactoe.py* file)\n",
    "\n",
    "Open the *tictactoe.py* file and try to figure out how many loops were used in the creation of this fairly basic game (you should find 3). For each `while` loop, what is the conditional statement and how is it satisfied to end the loop?"
   ]
  },
  {
   "cell_type": "code",
   "execution_count": null,
   "metadata": {},
   "outputs": [],
   "source": [
    "from tictactoe import tic_tac_toe"
   ]
  },
  {
   "cell_type": "code",
   "execution_count": null,
   "metadata": {},
   "outputs": [],
   "source": [
    "tic_tac_toe()"
   ]
  },
  {
   "cell_type": "markdown",
   "metadata": {},
   "source": [
    "# `break`, `continue`, and `pass` (loop control statements)\n",
    "\n",
    "Each of these Python keywords has a special use within loops:\n",
    "* `break`: terminates the entire loop\n",
    "* `continue`: forces execution to the next iterate of the loop\n",
    "* `pass`: does nothing is a null operation (used when a statement is syntactically required but we do not want to execute any code)"
   ]
  },
  {
   "cell_type": "code",
   "execution_count": null,
   "metadata": {},
   "outputs": [],
   "source": [
    "sum_of_squares = 0\n",
    "for x in range(10):\n",
    "\tprint(f'x = {x}')\n",
    "\tsum_of_squares += x**2\n",
    "print(f'Sum of squares = {sum_of_squares}')"
   ]
  },
  {
   "cell_type": "code",
   "execution_count": null,
   "metadata": {},
   "outputs": [],
   "source": [
    "# What do you think will be the output from this cell? Once you have an idea run the cell to see if you are correct\n",
    "\n",
    "sum_of_squares = 0\n",
    "for x in range(10):\n",
    "\tif x==6:\n",
    "\t\tbreak\n",
    "\tprint(f'x = {x}')\n",
    "\tsum_of_squares += x**2\n",
    "print(f'Sum of squares = {sum_of_squares}')"
   ]
  },
  {
   "cell_type": "code",
   "execution_count": null,
   "metadata": {},
   "outputs": [],
   "source": [
    "# What do you think will be the output from this cell? Once you have an idea run the cell to see if you are correct\n",
    "\n",
    "sum_of_squares = 0\n",
    "for x in range(10):\n",
    "\tif x==6:\n",
    "\t\tcontinue\n",
    "\tprint(f'x = {x}')\n",
    "\tsum_of_squares += x**2\n",
    "print(f'Sum of squares = {sum_of_squares}')"
   ]
  },
  {
   "cell_type": "code",
   "execution_count": null,
   "metadata": {},
   "outputs": [],
   "source": [
    "# What do you think will be the output from this cell? Once you have an idea run the cell to see if you are correct\n",
    "\n",
    "sum_of_squares = 0\n",
    "for x in range(10):\n",
    "\tif x==6:\n",
    "\t\tpass\n",
    "\tprint(f'x = {x}')\n",
    "\tsum_of_squares += x**2\n",
    "print(f'Sum of squares = {sum_of_squares}')"
   ]
  },
  {
   "cell_type": "markdown",
   "metadata": {},
   "source": [
    "----\n",
    "# Exercises"
   ]
  },
  {
   "cell_type": "markdown",
   "metadata": {},
   "source": [
    "1a. Write a `for` loop to calculate and return the sum of the numbers in the list [1, 4, 8, 16, 17, 2, -4, 13]"
   ]
  },
  {
   "cell_type": "code",
   "execution_count": null,
   "metadata": {},
   "outputs": [],
   "source": []
  },
  {
   "cell_type": "markdown",
   "metadata": {},
   "source": [
    "1b. Write a function that takes in a list as an input then uses a `for` loop to calculate and display the sum and average of the numbers in the list"
   ]
  },
  {
   "cell_type": "code",
   "execution_count": null,
   "metadata": {},
   "outputs": [],
   "source": []
  },
  {
   "cell_type": "markdown",
   "metadata": {},
   "source": [
    "1c. Write a function that takes in a list as input then uses a `for` loop to calculate and return the sum of every other element in the list starting with the first element. For example, for the list [1, 4, 8, 16] the function should return the value 9 (by summing 1 and 8) and for the list [5, 3, 9, 13, -1] the function should return the value 13 (by summing 5, 9, and -1)\n",
    "\n",
    "Hints:\n",
    "1. The built-in Python method `enumerate`, example given in the following cell, may be useful here as it provides both the element in a list and the index, or placement, of said element\n",
    "2. The % operator may be useful here. The % operator returns the remainder when dividing two numbers. For example, 9%5=4 and 6%4=2. So, for any even number x it holds that x%2=0 (as every even number is divisible by 2) and for every odd number y it holds that y%2=1.\n",
    "3. You'll want to use a `continue` loop control statement"
   ]
  },
  {
   "cell_type": "code",
   "execution_count": null,
   "metadata": {},
   "outputs": [],
   "source": []
  },
  {
   "cell_type": "markdown",
   "metadata": {},
   "source": [
    "2a. Write a loop to find the maximum value in the list [1, 4, 8, 16, 17, 2, -4, 13]"
   ]
  },
  {
   "cell_type": "code",
   "execution_count": null,
   "metadata": {},
   "outputs": [],
   "source": []
  },
  {
   "cell_type": "markdown",
   "metadata": {},
   "source": [
    "2b. Write a function that takes in a list as input then uses a loop to find and display the maximum and minimum values in the list"
   ]
  },
  {
   "cell_type": "code",
   "execution_count": null,
   "metadata": {},
   "outputs": [],
   "source": []
  },
  {
   "cell_type": "markdown",
   "metadata": {},
   "source": [
    "3a. Write a `while` loop that continues to ask the user for two numbers until the sum of those numbers if greater than 100. Display the sum of the two numbers at each iteration in the format 'number1 + number2 = sum' (for example, if the input numbers are 3 and 8 the printed statement would be '3 + 8 = 11')"
   ]
  },
  {
   "cell_type": "code",
   "execution_count": null,
   "metadata": {},
   "outputs": [],
   "source": []
  }
 ],
 "metadata": {
  "kernelspec": {
   "display_name": "base",
   "language": "python",
   "name": "python3"
  },
  "language_info": {
   "codemirror_mode": {
    "name": "ipython",
    "version": 3
   },
   "file_extension": ".py",
   "mimetype": "text/x-python",
   "name": "python",
   "nbconvert_exporter": "python",
   "pygments_lexer": "ipython3",
   "version": "3.11.7"
  }
 },
 "nbformat": 4,
 "nbformat_minor": 2
}
