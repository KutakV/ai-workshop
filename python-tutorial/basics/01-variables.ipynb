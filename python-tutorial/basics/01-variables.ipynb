{
 "cells": [
  {
   "cell_type": "markdown",
   "metadata": {},
   "source": [
    "# Variables, Booleans, and None"
   ]
  },
  {
   "cell_type": "markdown",
   "metadata": {},
   "source": [
    "## Variables\n",
    "\n",
    "Variables **point to values** and are assigned via a single ="
   ]
  },
  {
   "cell_type": "code",
   "execution_count": null,
   "metadata": {},
   "outputs": [],
   "source": [
    "a = 1\n",
    "b = 2"
   ]
  },
  {
   "cell_type": "code",
   "execution_count": null,
   "metadata": {},
   "outputs": [],
   "source": [
    "print(a) # stores value assigned to `a` above"
   ]
  },
  {
   "cell_type": "code",
   "execution_count": null,
   "metadata": {},
   "outputs": [],
   "source": [
    "print(b) # stores value assigned to `b` above"
   ]
  },
  {
   "cell_type": "code",
   "execution_count": null,
   "metadata": {},
   "outputs": [],
   "source": [
    "print(a+b) # add the two variables"
   ]
  },
  {
   "cell_type": "code",
   "execution_count": null,
   "metadata": {},
   "outputs": [],
   "source": [
    "a = 'this is a sample string' # string variable\n",
    "print(a)\n",
    "b = \"another string 'example'\" # string variable. the \" allows us to include '' inside of the string\n",
    "print(b)\n",
    "c = \"\"\"how about one more example\n",
    "\n",
    "of a string\n",
    "\"\"\" # string variable. the \"\"\" allow us to include line breaks, tabs, and other spacing characters in the string\n",
    "print(c)"
   ]
  },
  {
   "cell_type": "markdown",
   "metadata": {},
   "source": [
    "##### Updating a Variable\n",
    "\n",
    "We can set a variable, use it, and then update its value"
   ]
  },
  {
   "cell_type": "code",
   "execution_count": null,
   "metadata": {},
   "outputs": [],
   "source": [
    "a = 1\n",
    "b = 2\n",
    "print(f'a = {a} | b = {b}') # print a formatted string with the values of `a` and `b`\n",
    "a = 100\n",
    "print(f'a = {a} | b = {b}') # print a formatted string with the values of `a` and `b`"
   ]
  },
  {
   "cell_type": "markdown",
   "metadata": {},
   "source": [
    "#### Pointing multiple variables to the same value\n",
    "\n",
    "We can also assign one variable to be another variable. This points `b` to the same value as `a`"
   ]
  },
  {
   "cell_type": "code",
   "execution_count": null,
   "metadata": {},
   "outputs": [],
   "source": [
    "a = 1\n",
    "b = a\n",
    "print(f'a = {a} | b = {b}') # print a formatted string with the values of `a` and `b`\n",
    "a = 5\n",
    "print(f'a = {a} | b = {b}') # print a formatted string with the values of `a` and `b`"
   ]
  },
  {
   "cell_type": "markdown",
   "metadata": {},
   "source": [
    "Note, in the above example we assigned `b=a` then changed the value of `a` but this **did not** change the value of `b`\n",
    "\n",
    "However, be wary, we assinging variables to be other variables since, for some values, the variables can become linked where changing either of the variables then changes both. See the cell below for an example. We will come back to this in the future"
   ]
  },
  {
   "cell_type": "code",
   "execution_count": null,
   "metadata": {},
   "outputs": [],
   "source": [
    "a = [1] # a list containing the number 1\n",
    "b = a\n",
    "print(f'a = {a} | b = {b}') # print a formatted string with the values of `a` and `b`\n",
    "a.append(2) # add the value 2 to the list storred in `a`\n",
    "print(f'a = {a} | b = {b}') # both `a` and `b` have changed even though we only changed `a`!"
   ]
  },
  {
   "cell_type": "markdown",
   "metadata": {},
   "source": [
    "#### Variables are **case sensitive**"
   ]
  },
  {
   "cell_type": "code",
   "execution_count": null,
   "metadata": {},
   "outputs": [],
   "source": [
    "test = 1\n",
    "TEST = 2\n",
    "TeSt = 3\n",
    "\n",
    "print(test)\n",
    "print(TEST)\n",
    "print(TeSt)"
   ]
  },
  {
   "cell_type": "markdown",
   "metadata": {},
   "source": [
    "#### Special variable assignments\n",
    "\n",
    "Arithmetic operations can be combined with variable assignments\n",
    "* +=\n",
    "* -=\n",
    "* *=\n",
    "* /=\n",
    "* %=\n",
    "* //=\n",
    "* **="
   ]
  },
  {
   "cell_type": "code",
   "execution_count": null,
   "metadata": {},
   "outputs": [],
   "source": [
    "a = 1\n",
    "print(a)\n",
    "a += 4 # adds 4 to the value of a\n",
    "print(a)"
   ]
  },
  {
   "cell_type": "code",
   "execution_count": null,
   "metadata": {},
   "outputs": [],
   "source": [
    "a = 3\n",
    "print(a)\n",
    "a *= 5\n",
    "print(a)"
   ]
  },
  {
   "cell_type": "markdown",
   "metadata": {},
   "source": [
    "#### Variable names\n",
    "\n",
    "Variable names should be short but as descriptive as possible (just like a table column name). Here are a few guidelines for variable names:\n",
    "* Variable names cannot contain\n",
    "\t* Spaces\n",
    "\t* Most non-alphanumeric characters (!, @, #, $, %, ^, &, *, /, etc.)\n",
    "* Pythonic variable names are generally all lowercase\n",
    "* An underscore _ is generally used to separate words in a variable name\n",
    "* Variable names cannot be Python Keywords\n",
    "\t* Certain words cannot, or should not, be used as variables in Python as they are reserved by Python to have a special meaning already (many of these will show up over time). Usually, Python with throw an error if you try to assign use a keyword as a variable name"
   ]
  },
  {
   "cell_type": "code",
   "execution_count": null,
   "metadata": {},
   "outputs": [],
   "source": [
    "help('keywords')"
   ]
  },
  {
   "cell_type": "markdown",
   "metadata": {},
   "source": [
    "#### Additional details to keep in mind\n",
    "\n",
    "* Variables always point to a value, saying `b=a` points `b` to the same value that `a` points to\n",
    "* Multiple variables can point to the same value, but one variable\n",
    "  cannot point to multiple values.\n",
    "\n",
    "  --------------------------------"
   ]
  },
  {
   "cell_type": "markdown",
   "metadata": {},
   "source": [
    "## Booleans\n",
    "\n",
    "A Boolean, or *bool* for short, is a binary value marking either `True` or `False` (which are two special Python keywords that cannot be used as variable names)"
   ]
  },
  {
   "cell_type": "code",
   "execution_count": null,
   "metadata": {},
   "outputs": [],
   "source": [
    "print(True)\n",
    "print(False)\n",
    "print(type(True))"
   ]
  },
  {
   "cell_type": "markdown",
   "metadata": {},
   "source": [
    "#### Comparing objects\n",
    "\n",
    "We can compare to objects which will return a boolean\n",
    "* `==` (equals)\n",
    "* `!=` (not equals)\n",
    "* `>` (greater than)\n",
    "* `>=` (greater than or equal to)\n",
    "* `<` (less than)\n",
    "* `<=` (less than or equal to)"
   ]
  },
  {
   "cell_type": "code",
   "execution_count": null,
   "metadata": {},
   "outputs": [],
   "source": [
    "print(1==1)"
   ]
  },
  {
   "cell_type": "code",
   "execution_count": null,
   "metadata": {},
   "outputs": [],
   "source": [
    "a = 1\n",
    "print(a!=1)"
   ]
  },
  {
   "cell_type": "code",
   "execution_count": null,
   "metadata": {},
   "outputs": [],
   "source": [
    "a = 1\n",
    "b = (a==1) # point variable `b` to the output boolean from comparison a==1\n",
    "print(b)"
   ]
  },
  {
   "cell_type": "markdown",
   "metadata": {},
   "source": [
    "#### Combining Booleans\n",
    "\n",
    "Booleans can be combined via logical operations `and` and `or` both of which are special Python keywords\n",
    "\n",
    "This is particularly useful for combining the output of multiple object comparisons together (just like multiple conditions in a SQL where clause)"
   ]
  },
  {
   "cell_type": "code",
   "execution_count": null,
   "metadata": {},
   "outputs": [],
   "source": [
    "print(True and False)"
   ]
  },
  {
   "cell_type": "code",
   "execution_count": null,
   "metadata": {},
   "outputs": [],
   "source": [
    "a = 15\n",
    "b = 7\n",
    "\n",
    "print(a>10 and b<10)"
   ]
  },
  {
   "cell_type": "code",
   "execution_count": null,
   "metadata": {},
   "outputs": [],
   "source": [
    "print(a<10 or b>10)"
   ]
  },
  {
   "cell_type": "markdown",
   "metadata": {},
   "source": [
    "## None\n",
    "\n",
    "None is a special Python keyword to denoted nothing (similar to a Null in SQL)"
   ]
  },
  {
   "cell_type": "code",
   "execution_count": null,
   "metadata": {},
   "outputs": [],
   "source": [
    "a = None\n",
    "print(a)\n",
    "print(type(a))"
   ]
  },
  {
   "cell_type": "code",
   "execution_count": null,
   "metadata": {},
   "outputs": [],
   "source": []
  }
 ],
 "metadata": {
  "kernelspec": {
   "display_name": "base",
   "language": "python",
   "name": "python3"
  },
  "language_info": {
   "codemirror_mode": {
    "name": "ipython",
    "version": 3
   },
   "file_extension": ".py",
   "mimetype": "text/x-python",
   "name": "python",
   "nbconvert_exporter": "python",
   "pygments_lexer": "ipython3",
   "version": "3.11.7"
  }
 },
 "nbformat": 4,
 "nbformat_minor": 2
}
