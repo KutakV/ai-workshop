{
 "cells": [
  {
   "cell_type": "markdown",
   "metadata": {},
   "source": [
    "# Packages and Modules\n",
    "\n",
    "A Python **module** is a single .py file containing Python code to be used elsewhere.\n",
    "\n",
    "A Python **package** is a collection of related modules.\n",
    "\n",
    "Through packages and modules Python shows its true potential as there are many publically available, well-designed packages providing immensely useful functionalities."
   ]
  },
  {
   "cell_type": "markdown",
   "metadata": {},
   "source": [
    "## Built-in Packages and Modules\n",
    "\n",
    "Python by default comes with a number of built-in, already available packages and modules. We will look at a few here.\n",
    "\n",
    "Packages and modules can be loaded using the `import` keyword"
   ]
  },
  {
   "cell_type": "markdown",
   "metadata": {},
   "source": [
    "### `math`\n",
    "\n",
    "`math` offers a number of mathematical operations"
   ]
  },
  {
   "cell_type": "code",
   "execution_count": null,
   "metadata": {},
   "outputs": [],
   "source": [
    "import math"
   ]
  },
  {
   "cell_type": "markdown",
   "metadata": {},
   "source": [
    "Use any method within a package via syntax `<package-name>.<method>`. All available methods in the `math` package [at this link](https://docs.python.org/3/library/math.html)\n",
    "\n",
    "Method examples"
   ]
  },
  {
   "cell_type": "code",
   "execution_count": null,
   "metadata": {},
   "outputs": [],
   "source": [
    "a = math.floor(1.15) # rounds down number to closest whole value\n",
    "print(a)\n",
    "b = math.floor(3.99)\n",
    "print(b)"
   ]
  },
  {
   "cell_type": "code",
   "execution_count": null,
   "metadata": {},
   "outputs": [],
   "source": [
    "a = math.sqrt(4) # square root of a number\n",
    "print(a)\n",
    "b = math.sqrt(18.76)\n",
    "print(b)"
   ]
  },
  {
   "cell_type": "code",
   "execution_count": null,
   "metadata": {},
   "outputs": [],
   "source": [
    "a = math.log(10) # logarithm of a number\n",
    "print(a)\n",
    "b = math.log(16.5)\n",
    "print(b)"
   ]
  },
  {
   "cell_type": "code",
   "execution_count": null,
   "metadata": {},
   "outputs": [],
   "source": [
    "a = math.pi # pi\n",
    "print(a)\n",
    "b = math.e # Euler's number\n",
    "print(b)"
   ]
  },
  {
   "cell_type": "markdown",
   "metadata": {},
   "source": [
    "## `random`\n",
    "\n",
    "`random` offers various functions for generating random numbers"
   ]
  },
  {
   "cell_type": "code",
   "execution_count": null,
   "metadata": {},
   "outputs": [],
   "source": [
    "import random"
   ]
  },
  {
   "cell_type": "markdown",
   "metadata": {},
   "source": [
    "Method examples"
   ]
  },
  {
   "cell_type": "code",
   "execution_count": null,
   "metadata": {},
   "outputs": [],
   "source": [
    "a = random.randint(0, 10) # generate a random integer between 0 and 10\n",
    "print(a)"
   ]
  },
  {
   "cell_type": "code",
   "execution_count": null,
   "metadata": {},
   "outputs": [],
   "source": [
    "_list = ['apple', 'orange', 'banana']\n",
    "a = random.choice(_list) # randomly sample an element from a data structure\n",
    "print(a)"
   ]
  },
  {
   "cell_type": "code",
   "execution_count": null,
   "metadata": {},
   "outputs": [],
   "source": [
    "a = random.random() # generate a random number between 0 and 1\n",
    "print(a)"
   ]
  },
  {
   "cell_type": "markdown",
   "metadata": {},
   "source": [
    "A number of other built-in packages and modules can be found at [this link](https://docs.python.org/3/library/index.html). Personally, I do **not** recommend trying to learn about these all up front here. Rather, as you continue to code in Python, you will naturally run into instances where you want to do something specific and an internet search, or question to an LLM, about what you want to do will introduce you to new packages and modules"
   ]
  },
  {
   "cell_type": "markdown",
   "metadata": {},
   "source": [
    "## 3rd Party Packages and Modules\n",
    "\n",
    "A vast amount of useful and well-maintained packages and modules have been developed by independent groups. Once these packages are installed into a Python environment, using Anaconda is recommended, they can be loaded into a Python script via an `import` statement.\n",
    "\n",
    "The enviornment [here](..\\environment.yml) that we already installed has a number of frequently used packages for data science. We will look at a few here. A specific tutorial on the `pandas` package can be found in the [pandas-tutorial](../../pandas-tutorial/README.md)"
   ]
  },
  {
   "cell_type": "markdown",
   "metadata": {},
   "source": [
    "## `numpy`\n",
    "\n",
    "`numpy` offers a `ndarray` data structure and a substantial amount of mathematical and statistical operations. [Documentation can be found here](https://numpy.org/doc/stable/)"
   ]
  },
  {
   "cell_type": "markdown",
   "metadata": {},
   "source": [
    "Package import can be aliased using the `as` keyword. For example, `numpy` is almost always aliased with `np`"
   ]
  },
  {
   "cell_type": "code",
   "execution_count": null,
   "metadata": {},
   "outputs": [],
   "source": [
    "import numpy as np"
   ]
  },
  {
   "cell_type": "code",
   "execution_count": null,
   "metadata": {},
   "outputs": [],
   "source": [
    "a = np.array([[1, 2, 3, 10],\n",
    "              [4, 5, 6, 11],\n",
    "\t\t\t  [7, 8, 9, 12]])\n",
    "\n",
    "print(type(a)) # numpy.ndarray\n",
    "print(a)"
   ]
  },
  {
   "cell_type": "code",
   "execution_count": null,
   "metadata": {},
   "outputs": [],
   "source": [
    "print(a.shape) # 2 dimensional array with 3 rows by 4 columns"
   ]
  },
  {
   "cell_type": "markdown",
   "metadata": {},
   "source": [
    "#### Numpy elements can be accessed exactly like a Python list along each axis of the array"
   ]
  },
  {
   "cell_type": "code",
   "execution_count": null,
   "metadata": {},
   "outputs": [],
   "source": [
    "firstrow = a[0]\n",
    "print(firstrow)"
   ]
  },
  {
   "cell_type": "code",
   "execution_count": null,
   "metadata": {},
   "outputs": [],
   "source": [
    "subarray = a[1:, 0:2] # all rows after 1 and the first and second columns\n",
    "print(subarray)"
   ]
  },
  {
   "cell_type": "markdown",
   "metadata": {},
   "source": [
    "#### Arrays can be created in a variety of ways. Here are a few"
   ]
  },
  {
   "cell_type": "code",
   "execution_count": null,
   "metadata": {},
   "outputs": [],
   "source": [
    "a = np.zeros((2, 3)) # array of all zeros\n",
    "print(a)"
   ]
  },
  {
   "cell_type": "code",
   "execution_count": null,
   "metadata": {},
   "outputs": [],
   "source": [
    "a = np.ones((2, 3)) # array of all ones\n",
    "print(a)"
   ]
  },
  {
   "cell_type": "code",
   "execution_count": null,
   "metadata": {},
   "outputs": [],
   "source": [
    "a = np.arange(4) # integers 0 through 3\n",
    "print(a)"
   ]
  },
  {
   "cell_type": "code",
   "execution_count": null,
   "metadata": {},
   "outputs": [],
   "source": [
    "a = np.linspace(0, 10, num=5) # 5 points evenly spaced between 0 and 10\n",
    "print(a)"
   ]
  },
  {
   "cell_type": "code",
   "execution_count": null,
   "metadata": {},
   "outputs": [],
   "source": [
    "a = np.array([1, 2, 3, 4]) # create an array from a list\n",
    "print(a)"
   ]
  },
  {
   "cell_type": "code",
   "execution_count": null,
   "metadata": {},
   "outputs": [],
   "source": [
    "a = np.random.normal(0, 1, (2, 3)) # Array of standard normal random variable samples\n",
    "print(a)"
   ]
  },
  {
   "cell_type": "markdown",
   "metadata": {},
   "source": [
    "#### Arrays can easily be filtered"
   ]
  },
  {
   "cell_type": "code",
   "execution_count": null,
   "metadata": {},
   "outputs": [],
   "source": [
    "_filter = a < 0\n",
    "subarray = a[_filter] # get all negative elements\n",
    "print(subarray)"
   ]
  },
  {
   "cell_type": "code",
   "execution_count": null,
   "metadata": {},
   "outputs": [],
   "source": [
    "a[_filter] = 0 # replace all negativie elements with 0\n",
    "print(a)"
   ]
  },
  {
   "cell_type": "markdown",
   "metadata": {},
   "source": [
    "The & (and) and | (or) operators can be used to combine filters"
   ]
  },
  {
   "cell_type": "code",
   "execution_count": null,
   "metadata": {},
   "outputs": [],
   "source": [
    "a = np.random.normal(0, 1, (2, 3)) # Array of standard normal random variable samples\n",
    "print(a)"
   ]
  },
  {
   "cell_type": "code",
   "execution_count": null,
   "metadata": {},
   "outputs": [],
   "source": [
    "_filter = (a < 0) | (a > 1)\n",
    "subarray = a[_filter] # get all negative elements or elements greater than 1\n",
    "print(subarray)"
   ]
  },
  {
   "cell_type": "code",
   "execution_count": null,
   "metadata": {},
   "outputs": [],
   "source": [
    "a[_filter] = np.floor(2*np.abs(a[_filter])) # replace all elements found by the filter with the floor of 2 times the absolute value of each element\n",
    "print(a)"
   ]
  },
  {
   "cell_type": "markdown",
   "metadata": {},
   "source": [
    "#### Mathematical operations on arrays"
   ]
  },
  {
   "cell_type": "markdown",
   "metadata": {},
   "source": [
    "+, -, /, * are standard addition, subtraction, division, and multiplication **elementwise** between two arrays of the same size"
   ]
  },
  {
   "cell_type": "code",
   "execution_count": null,
   "metadata": {},
   "outputs": [],
   "source": [
    "a = np.arange(1, 5) # numbers 1 through 4\n",
    "a = np.reshape(a, (2, 2)) # reshape to 2x2 matrix\n",
    "print(a)"
   ]
  },
  {
   "cell_type": "code",
   "execution_count": null,
   "metadata": {},
   "outputs": [],
   "source": [
    "b = np.random.randint(-5, 5, (2, 2))\n",
    "print(b)"
   ]
  },
  {
   "cell_type": "code",
   "execution_count": null,
   "metadata": {},
   "outputs": [],
   "source": [
    "addition = a+b\n",
    "print(addition)"
   ]
  },
  {
   "cell_type": "code",
   "execution_count": null,
   "metadata": {},
   "outputs": [],
   "source": [
    "subtraction = a-b\n",
    "print(subtraction)"
   ]
  },
  {
   "cell_type": "code",
   "execution_count": null,
   "metadata": {},
   "outputs": [],
   "source": [
    "multiplication = a*b\n",
    "print(multiplication)"
   ]
  },
  {
   "cell_type": "code",
   "execution_count": null,
   "metadata": {},
   "outputs": [],
   "source": [
    "division = b/a\n",
    "print(division)"
   ]
  },
  {
   "cell_type": "code",
   "execution_count": null,
   "metadata": {},
   "outputs": [],
   "source": [
    "# Mathematical operations will apply a scalar to each element of an array\n",
    "\n",
    "print(a, '\\n')\n",
    "print(6+a, '\\n')\n",
    "print(6.53-a, '\\n')\n",
    "print(a/4, '\\n')\n",
    "print(4/a, '\\n')\n",
    "print(8*a, '\\n')"
   ]
  },
  {
   "cell_type": "code",
   "execution_count": null,
   "metadata": {},
   "outputs": [],
   "source": [
    "b_max = np.max(b) # get max element of an array\n",
    "b_min = np.min(b) # get min element of an array\n",
    "print(b_min, b_max)"
   ]
  },
  {
   "cell_type": "code",
   "execution_count": null,
   "metadata": {},
   "outputs": [],
   "source": [
    "b_sum = np.sum(b) # add all element of an array\n",
    "print(b_sum)"
   ]
  },
  {
   "cell_type": "markdown",
   "metadata": {},
   "source": [
    "`numpy` beginners guide found [here](https://numpy.org/doc/stable/user/absolute_beginners.html)"
   ]
  },
  {
   "cell_type": "markdown",
   "metadata": {},
   "source": [
    "Similar to above, I personally do **not** recommend trying to learn all that numpy has to offer up front here as it is a very large package. Rather, start with the beginners guide and as you continue to code in Python, you will naturally run into instances where you want to do something specific and an internet search, or question to an LLM, about what you want to do will introduce you to new functionalities of numpy"
   ]
  },
  {
   "cell_type": "markdown",
   "metadata": {},
   "source": [
    "## `matplotlib`\n",
    "\n",
    "`matplotlib` offers a number of plotting and visualization methods. [Documentation can be found here](https://matplotlib.org/stable/index.html)"
   ]
  },
  {
   "cell_type": "code",
   "execution_count": null,
   "metadata": {},
   "outputs": [],
   "source": [
    "import matplotlib.pyplot as plt # import pyplot for plotting\n",
    "import numpy as np"
   ]
  },
  {
   "cell_type": "markdown",
   "metadata": {},
   "source": [
    "#### Example plots"
   ]
  },
  {
   "cell_type": "code",
   "execution_count": null,
   "metadata": {},
   "outputs": [],
   "source": [
    "x = [0, 1, 2, 3, 4, 5]\n",
    "y = [0, -1, 2, -3, 4, -5]\n",
    "\n",
    "plt.plot(x, y) # plot (x, y) pairs\n",
    "plt.show() # show plot"
   ]
  },
  {
   "cell_type": "code",
   "execution_count": null,
   "metadata": {},
   "outputs": [],
   "source": [
    "x = np.linspace(-2*np.pi, 2*np.pi, 100)\n",
    "y_cos = np.cos(x)\n",
    "y_sin = np.sin(x)\n",
    "\n",
    "plt.plot(x, y_cos) # plot (x, y_cos) pairs\n",
    "plt.plot(x, y_sin) # plot (x, y_sin) pairs\n",
    "plt.xlabel('x axis')\n",
    "plt.ylabel('Trigonometric Function Value')\n",
    "plt.title('Example plot of two sets of data')\n",
    "plt.show() # show plot"
   ]
  },
  {
   "cell_type": "code",
   "execution_count": null,
   "metadata": {},
   "outputs": [],
   "source": [
    "x = np.arange(10)\n",
    "exp_growth = np.exp(x)\n",
    "exp_decay = np.exp(-x+len(x)-1)\n",
    "\n",
    "plt.plot(x, exp_growth, linestyle='--', label='EXP growth')\n",
    "plt.plot(x, exp_decay, marker='o', label='EXP decay')\n",
    "plt.legend()\n",
    "plt.show() # show plot"
   ]
  },
  {
   "cell_type": "markdown",
   "metadata": {},
   "source": [
    "Quick start guide found [here](https://matplotlib.org/stable/users/explain/quick_start.html)\n",
    "\n",
    "Tutorials found [here](https://matplotlib.org/stable/tutorials/index.html)"
   ]
  },
  {
   "cell_type": "markdown",
   "metadata": {},
   "source": [
    "Again, I personally do **not** recommend trying to learn all that matplotlab has to offer up front here as it is a very large package. Rather, start with the quick start guide and as you continue to code in Python, you will naturally run into instances where you want to do something specific and an internet search, or question to an LLM, about what you want to do will introduce you to new functionalities of matplotlib"
   ]
  },
  {
   "cell_type": "markdown",
   "metadata": {},
   "source": [
    "---"
   ]
  },
  {
   "cell_type": "markdown",
   "metadata": {},
   "source": [
    "# Exercises"
   ]
  },
  {
   "cell_type": "markdown",
   "metadata": {},
   "source": [
    "1. Import the `matplotlib` and `numpy` packages using aliased names"
   ]
  },
  {
   "cell_type": "code",
   "execution_count": null,
   "metadata": {},
   "outputs": [],
   "source": []
  },
  {
   "cell_type": "markdown",
   "metadata": {},
   "source": [
    "2. Create a numpy ndarray of 25 evenly spaced points over the range [-10, 10]"
   ]
  },
  {
   "cell_type": "code",
   "execution_count": null,
   "metadata": {},
   "outputs": [],
   "source": []
  },
  {
   "cell_type": "markdown",
   "metadata": {},
   "source": [
    "3. Generate a numpy array of uniformly distributed randomly sampled points over the range [0, 3] with the same shape as the data in Exercise 2."
   ]
  },
  {
   "cell_type": "code",
   "execution_count": null,
   "metadata": {},
   "outputs": [],
   "source": []
  },
  {
   "cell_type": "markdown",
   "metadata": {},
   "source": [
    "4. Display a line plot of the data from Exercises 2 and 3 showing the point markers. Add a title and axis labels to the plot."
   ]
  },
  {
   "cell_type": "code",
   "execution_count": null,
   "metadata": {},
   "outputs": [],
   "source": []
  },
  {
   "cell_type": "markdown",
   "metadata": {},
   "source": [
    "5. Display a scatter plot of the data from Exercises 2 and 3. Add a title and axis labels to the plot"
   ]
  },
  {
   "cell_type": "code",
   "execution_count": null,
   "metadata": {},
   "outputs": [],
   "source": []
  },
  {
   "cell_type": "markdown",
   "metadata": {},
   "source": [
    "6. Generate a numpy array of 100000 randomly sampled points from the standard normal distribution"
   ]
  },
  {
   "cell_type": "code",
   "execution_count": null,
   "metadata": {},
   "outputs": [],
   "source": []
  },
  {
   "cell_type": "markdown",
   "metadata": {},
   "source": [
    "7. Plot a histogram of the data from Exercise 6 to visualize the probability density function for the data "
   ]
  },
  {
   "cell_type": "code",
   "execution_count": null,
   "metadata": {},
   "outputs": [],
   "source": []
  },
  {
   "cell_type": "markdown",
   "metadata": {},
   "source": [
    "8. Repeat Exercise 7, but now use 100 bins in your histogram and set the histogram *density* keyword argument to True. Afterwords, additionally display the following data as a line graph on the same plot"
   ]
  },
  {
   "cell_type": "code",
   "execution_count": null,
   "metadata": {},
   "outputs": [],
   "source": [
    "x = np.linspace(-4, 4, 1000)\n",
    "y = np.exp(-x**2/2)/np.sqrt(2*np.pi)"
   ]
  },
  {
   "cell_type": "code",
   "execution_count": null,
   "metadata": {},
   "outputs": [],
   "source": []
  }
 ],
 "metadata": {
  "kernelspec": {
   "display_name": "base",
   "language": "python",
   "name": "python3"
  },
  "language_info": {
   "codemirror_mode": {
    "name": "ipython",
    "version": 3
   },
   "file_extension": ".py",
   "mimetype": "text/x-python",
   "name": "python",
   "nbconvert_exporter": "python",
   "pygments_lexer": "ipython3",
   "version": "3.11.7"
  }
 },
 "nbformat": 4,
 "nbformat_minor": 2
}
