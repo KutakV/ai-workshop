{
 "cells": [
  {
   "cell_type": "markdown",
   "metadata": {},
   "source": [
    "# Built-in Data Structures\n",
    "\n",
    "A **data structure** is a way to store and organize data in computer programming. Python has four built-in ready-to-use data structures that we will cover here: `list`, `tuple`, `dictionary`, and `set`"
   ]
  },
  {
   "cell_type": "markdown",
   "metadata": {},
   "source": [
    "## `list`\n",
    "\n",
    "A list is an ordered and mutable (can add or remove items) collection any types of objects"
   ]
  },
  {
   "cell_type": "code",
   "execution_count": null,
   "metadata": {},
   "outputs": [],
   "source": [
    "starter_list = [1, 2, 3, 4, 4, 'apple', 'orange', 5, 'banana'] # create a list with square brackets []\n",
    "print(starter_list)"
   ]
  },
  {
   "cell_type": "markdown",
   "metadata": {},
   "source": [
    "List item are indexed starting from 0"
   ]
  },
  {
   "cell_type": "code",
   "execution_count": null,
   "metadata": {},
   "outputs": [],
   "source": [
    "firstitem = starter_list[0] # get first item in the list\n",
    "print(firstitem)\n",
    "seconditem = starter_list[1] # get second item in the list\n",
    "print(seconditem)"
   ]
  },
  {
   "cell_type": "markdown",
   "metadata": {},
   "source": [
    "Negative indices can be used to get list items starting from the end of the list"
   ]
  },
  {
   "cell_type": "code",
   "execution_count": null,
   "metadata": {},
   "outputs": [],
   "source": [
    "lastitem = starter_list[-1] # get final list item\n",
    "print(lastitem)\n",
    "secondtolastitem = starter_list[-2] # get second to last list item\n",
    "print(secondtolastitem)"
   ]
  },
  {
   "cell_type": "markdown",
   "metadata": {},
   "source": [
    "Attempting to access a list at an index greater than the number of list elements with produce an error *list index out of range*"
   ]
  },
  {
   "cell_type": "code",
   "execution_count": null,
   "metadata": {},
   "outputs": [],
   "source": [
    "starter_list[15]"
   ]
  },
  {
   "cell_type": "markdown",
   "metadata": {},
   "source": [
    "Multiple entries can be accessed at once using a colon :"
   ]
  },
  {
   "cell_type": "code",
   "execution_count": null,
   "metadata": {},
   "outputs": [],
   "source": [
    "sublist = starter_list[:] # get all items\n",
    "print(sublist)"
   ]
  },
  {
   "cell_type": "code",
   "execution_count": null,
   "metadata": {},
   "outputs": [],
   "source": [
    "sublist = starter_list[:5] # get first five entries (list items at index 0 through index 4)\n",
    "print(sublist)"
   ]
  },
  {
   "cell_type": "code",
   "execution_count": null,
   "metadata": {},
   "outputs": [],
   "source": [
    "sublist = starter_list[-5:] # get final five entries (list items at index -5 through -1)\n",
    "print(sublist)"
   ]
  },
  {
   "cell_type": "code",
   "execution_count": null,
   "metadata": {},
   "outputs": [],
   "source": [
    "sublist = starter_list[2:7] # get entries at list index 2 through list index 6\n",
    "print(sublist)"
   ]
  },
  {
   "cell_type": "markdown",
   "metadata": {},
   "source": [
    "### Modifying elements\n",
    "\n",
    "Elements in a list can be modified"
   ]
  },
  {
   "cell_type": "code",
   "execution_count": null,
   "metadata": {},
   "outputs": [],
   "source": [
    "print(starter_list)\n",
    "starter_list[0] = 100 # set the first list element to 100\n",
    "print(starter_list)"
   ]
  },
  {
   "cell_type": "markdown",
   "metadata": {},
   "source": [
    "### `len` function\n",
    " \n",
    "The `len` function return the number of items in a list"
   ]
  },
  {
   "cell_type": "code",
   "execution_count": null,
   "metadata": {},
   "outputs": [],
   "source": [
    "print(starter_list)\n",
    "print(len(starter_list))"
   ]
  },
  {
   "cell_type": "markdown",
   "metadata": {},
   "source": [
    "### `append` method\n",
    "\n",
    "The `append` method can be used to add items to a list"
   ]
  },
  {
   "cell_type": "code",
   "execution_count": null,
   "metadata": {},
   "outputs": [],
   "source": [
    "print(starter_list)\n",
    "starter_list.append('apple')\n",
    "print(starter_list)"
   ]
  },
  {
   "cell_type": "code",
   "execution_count": null,
   "metadata": {},
   "outputs": [],
   "source": [
    "starter_list.append(['sun', 1.5]) # add the list ['sun', 1.5] as another entry in starter_list\n",
    "print(starter_list)"
   ]
  },
  {
   "cell_type": "code",
   "execution_count": null,
   "metadata": {},
   "outputs": [],
   "source": [
    "new_list = [] # create an empty list\n",
    "print(new_list)\n",
    "new_list.append(100)\n",
    "print(new_list)"
   ]
  },
  {
   "cell_type": "markdown",
   "metadata": {},
   "source": [
    "**Note**, `list` is a Python keyword and should not be used as a variable name"
   ]
  },
  {
   "cell_type": "markdown",
   "metadata": {},
   "source": [
    "## `tuple`\n",
    "\n",
    "A tuple is an ordered immutable collection of any Python objects. Tuples are the exact same as lists **EXCEPT** tuples cannot be changed"
   ]
  },
  {
   "cell_type": "code",
   "execution_count": null,
   "metadata": {},
   "outputs": [],
   "source": [
    "starter_tuple = (1, 2, 3, 4, 4, 'apple', 'orange', 5, 'banana') # create a tuple with parenthesis ()\n",
    "print(starter_tuple)"
   ]
  },
  {
   "cell_type": "code",
   "execution_count": null,
   "metadata": {},
   "outputs": [],
   "source": [
    "firstitem = starter_tuple[0] # get first item in the tuple\n",
    "print(firstitem)\n",
    "seconditem = starter_tuple[1] # get second item in the tuple\n",
    "print(seconditem)"
   ]
  },
  {
   "cell_type": "code",
   "execution_count": null,
   "metadata": {},
   "outputs": [],
   "source": [
    "subtuple = starter_tuple[2:7] # get entries at tuple index 2 through list index 6\n",
    "print(subtuple)"
   ]
  },
  {
   "cell_type": "code",
   "execution_count": null,
   "metadata": {},
   "outputs": [],
   "source": [
    "print(len(starter_tuple))"
   ]
  },
  {
   "cell_type": "markdown",
   "metadata": {},
   "source": [
    "**Note**, `tuple` is a Python keyword and should not be used as a variable name"
   ]
  },
  {
   "cell_type": "markdown",
   "metadata": {},
   "source": [
    "## `set` \n",
    "\n",
    "A set is an unordered and mutable collection of Python objects without duplicate elements"
   ]
  },
  {
   "cell_type": "code",
   "execution_count": null,
   "metadata": {},
   "outputs": [],
   "source": [
    "starter_set = {1, 2, 3, 4, 4, 'apple', 'orange', 5, 'banana'} # set can be created from a comma seperated collection of items between curly braces {}\n",
    "print(starter_set) # note only one 4 is in starter_set"
   ]
  },
  {
   "cell_type": "code",
   "execution_count": null,
   "metadata": {},
   "outputs": [],
   "source": [
    "starter_list = [1, 2, 3, 4, 4, 'apple', 'orange', 5, 'banana']\n",
    "starter_set = set(starter_list) # more commonly a set is created from a list like this\n",
    "print(starter_set)"
   ]
  },
  {
   "cell_type": "code",
   "execution_count": null,
   "metadata": {},
   "outputs": [],
   "source": [
    "print(len(starter_set)) # get number of elements"
   ]
  },
  {
   "cell_type": "markdown",
   "metadata": {},
   "source": [
    "### `add` method\n",
    "\n",
    "The `add` method can be used to add new unique elements to a set"
   ]
  },
  {
   "cell_type": "code",
   "execution_count": null,
   "metadata": {},
   "outputs": [],
   "source": [
    "starter_set.add(100)\n",
    "print(starter_set) # Note the element may not appear at the \"end\" of the set as set elements are unordered"
   ]
  },
  {
   "cell_type": "markdown",
   "metadata": {},
   "source": [
    "### `union` and `intersection` \n",
    "\n",
    "The `union` and `intersection` methods for are great for combining sets. We won't go into detail here but links to these topics are below\n",
    "* `union`\n",
    "\t* https://www.w3schools.com/python/ref_set_union.asp\n",
    "\t* https://en.wikipedia.org/wiki/Union_(set_theory)\n",
    "* `intersection`\n",
    "\t* https://www.w3schools.com/python/ref_set_intersection.asp\n",
    "\t* https://en.wikipedia.org/wiki/Intersection_(set_theory)"
   ]
  },
  {
   "cell_type": "markdown",
   "metadata": {},
   "source": [
    "## `dictionary`\n",
    "\n",
    "A `dictionary` is a collection of key, value pairs. It can be thought of in some ways like a table where a table column name is the key of a dictionary and the table entries in a column is the value in the dictionary"
   ]
  },
  {
   "cell_type": "code",
   "execution_count": null,
   "metadata": {},
   "outputs": [],
   "source": [
    "starter_dictionary = {'fruit': 'apple', 'color': 'red', 'quantity': 10}"
   ]
  },
  {
   "cell_type": "code",
   "execution_count": null,
   "metadata": {},
   "outputs": [],
   "source": [
    "print(starter_dictionary)"
   ]
  },
  {
   "cell_type": "code",
   "execution_count": null,
   "metadata": {},
   "outputs": [],
   "source": [
    "print(starter_dictionary.keys()) # get keys of a dictionary"
   ]
  },
  {
   "cell_type": "code",
   "execution_count": null,
   "metadata": {},
   "outputs": [],
   "source": [
    "print(starter_dictionary.values()) # get values of a dictionary"
   ]
  },
  {
   "cell_type": "markdown",
   "metadata": {},
   "source": [
    "Values in a dictionary are accessed through the corresponding key"
   ]
  },
  {
   "cell_type": "code",
   "execution_count": null,
   "metadata": {},
   "outputs": [],
   "source": [
    "entry = starter_dictionary['fruit']\n",
    "print(entry)"
   ]
  },
  {
   "cell_type": "code",
   "execution_count": null,
   "metadata": {},
   "outputs": [],
   "source": [
    "entry = starter_dictionary['color']\n",
    "print(entry)"
   ]
  },
  {
   "cell_type": "code",
   "execution_count": null,
   "metadata": {},
   "outputs": [],
   "source": [
    "entry = starter_dictionary['quantity']\n",
    "print(entry)"
   ]
  },
  {
   "cell_type": "markdown",
   "metadata": {},
   "source": [
    "-------"
   ]
  },
  {
   "cell_type": "markdown",
   "metadata": {},
   "source": [
    "# Exercises"
   ]
  },
  {
   "cell_type": "markdown",
   "metadata": {},
   "source": [
    "1. Create a list with at least three elements. One being a number and one being a string."
   ]
  },
  {
   "cell_type": "code",
   "execution_count": null,
   "metadata": {},
   "outputs": [],
   "source": []
  },
  {
   "cell_type": "markdown",
   "metadata": {},
   "source": [
    "2. With the list in the cell bellow:\n",
    "\t1. Print the third element\n",
    "\t2. Print the final element\n",
    "\t3. Print the first seven elements\n",
    "\t4. Calculate the number of elements in the list\n",
    "\t5. Add together the second and the eighth elements in the list. Print this value.\n",
    "\t6. Replace the third element with 10 times its value"
   ]
  },
  {
   "cell_type": "code",
   "execution_count": null,
   "metadata": {},
   "outputs": [],
   "source": [
    "_list = [1, 2, 3, 4, 5, 6, 11, 13, 15, 17, 19, 7, 8, 9]"
   ]
  },
  {
   "cell_type": "code",
   "execution_count": null,
   "metadata": {},
   "outputs": [],
   "source": []
  },
  {
   "cell_type": "markdown",
   "metadata": {},
   "source": [
    "3. Write a function that takes three inputs: a list and two whole number indices. The function should return the product of the input list elements at the input indices. The function should also check if either of the whole number input indices exceeds the number of list elements and, if either does, instead of multiplying the list elements the function should print the message *input index out of range* and return `None`.\n",
    "\n",
    "Example.) For inputs: list [2, 3, 4], index 0, and index 2 the function would return 8\n",
    "\n",
    "Example.) For inputs: list [2, 3, 4], index 0, and index 3 the function would return None"
   ]
  },
  {
   "cell_type": "code",
   "execution_count": null,
   "metadata": {},
   "outputs": [],
   "source": []
  },
  {
   "cell_type": "markdown",
   "metadata": {},
   "source": [
    "4. Create a dictionary with keys firstname and lastname where the value at each key is your first and last name, respectively"
   ]
  },
  {
   "cell_type": "code",
   "execution_count": null,
   "metadata": {},
   "outputs": [],
   "source": []
  },
  {
   "cell_type": "markdown",
   "metadata": {},
   "source": [
    "5. Create a dictionary with keys make, model, and year where the value at each key is a list containing make, model, and years of three different types of aircraft.\n",
    "\t1. Print the list of aircraft makes from the dictionary.\n",
    "\t2. Print all of the dictionary values."
   ]
  },
  {
   "cell_type": "code",
   "execution_count": null,
   "metadata": {},
   "outputs": [],
   "source": []
  }
 ],
 "metadata": {
  "kernelspec": {
   "display_name": "base",
   "language": "python",
   "name": "python3"
  },
  "language_info": {
   "codemirror_mode": {
    "name": "ipython",
    "version": 3
   },
   "file_extension": ".py",
   "mimetype": "text/x-python",
   "name": "python",
   "nbconvert_exporter": "python",
   "pygments_lexer": "ipython3",
   "version": "3.11.7"
  }
 },
 "nbformat": 4,
 "nbformat_minor": 2
}
