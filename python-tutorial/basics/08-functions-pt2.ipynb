{
 "cells": [
  {
   "cell_type": "markdown",
   "metadata": {},
   "source": [
    "# Functions (Part 2)\n",
    "\n",
    "Recall that in Python you can define your own functions using the `def` keyword. This will allow you to bundle a specific set of operations and logic together dividing a long complex program into a series of simple functions."
   ]
  },
  {
   "cell_type": "markdown",
   "metadata": {},
   "source": [
    "## Argument/Input Types\n",
    "\n",
    "Functions can have two types of inputs:\n",
    "1. **Positional arguments**: The most common type of argument where only the value for an input in passed to a function. These arguments are defined by their position in the function definition.\n",
    "2. **Keyword arguments**: These arguments are passed to a function with both a variable name and an input value."
   ]
  },
  {
   "cell_type": "code",
   "execution_count": null,
   "metadata": {},
   "outputs": [],
   "source": [
    "def divide(x, y, z): # Function has three arguments x, y, and z\n",
    "\t# print(f'(x, y, z) = ({x}, {y}, {z})')\n",
    "\treturn x/y + z"
   ]
  },
  {
   "cell_type": "code",
   "execution_count": null,
   "metadata": {},
   "outputs": [],
   "source": [
    "ratio = divide(10, 3, 5) # Positional arguments as only the input values were provided\n",
    "print(ratio)"
   ]
  },
  {
   "cell_type": "code",
   "execution_count": null,
   "metadata": {},
   "outputs": [],
   "source": [
    "ratio = divide(x=10, y=3, z=5) # Keyword argument as both the variable name and input value were provided\n",
    "print(ratio)"
   ]
  },
  {
   "cell_type": "code",
   "execution_count": null,
   "metadata": {},
   "outputs": [],
   "source": [
    "# Why do we get to different outputs below? (Hint: Order of positional arguments is important)\n",
    "\n",
    "ratio = divide(10, 3, 5)\n",
    "print(ratio)\n",
    "\n",
    "ratio = divide(3, 10, 5)\n",
    "print(ratio)\n",
    "\n",
    "ratio = divide(5, 10, 3)\n",
    "print(ratio)"
   ]
  },
  {
   "cell_type": "code",
   "execution_count": null,
   "metadata": {},
   "outputs": [],
   "source": [
    "# Why do we get the same outputs below? (Hint: Order of keyword arguments is not important)\n",
    "\n",
    "ratio = divide(x=10, y=3, z=5)\n",
    "print(ratio)\n",
    "\n",
    "ratio = divide(y=3, x=10, z=5)\n",
    "print(ratio)\n",
    "\n",
    "ratio = divide(z=5, x=10, y=3)\n",
    "print(ratio)"
   ]
  },
  {
   "cell_type": "markdown",
   "metadata": {},
   "source": [
    "The previous two cells show that when we use keyword arguments the order of the inputs to the function does not matter since each function input variable is being explicitly set. On the other hand, ordering of the positional arguments does matter as these arguments are based on input position"
   ]
  },
  {
   "cell_type": "markdown",
   "metadata": {},
   "source": [
    "Modify the `divide` function by uncommenting out the print statment in the body of the function. Rerun each of the cells above to see what values for x, y, and z the function was provided. Are the input values for x, y, and z what you expected?"
   ]
  },
  {
   "cell_type": "code",
   "execution_count": null,
   "metadata": {},
   "outputs": [],
   "source": [
    "# Positional and keyword arguments can both be provided to a function. However, positional arguments must always come first\n",
    "\n",
    "ratio = divide(10, y=3, z=5)\n",
    "print(ratio)\n",
    "\n",
    "ratio = divide(10, z=5, y=3)\n",
    "print(ratio)\n",
    "\n",
    "ratio = divide(10, 3, z=5)\n",
    "print(ratio)"
   ]
  },
  {
   "cell_type": "code",
   "execution_count": null,
   "metadata": {},
   "outputs": [],
   "source": [
    "# Should produce a SyntaxError since positional argument follows a keyword argument\n",
    "\n",
    "ratio = divide(x=10, 3, z=5)\n",
    "print(ratio)"
   ]
  },
  {
   "cell_type": "markdown",
   "metadata": {},
   "source": [
    "---"
   ]
  },
  {
   "cell_type": "markdown",
   "metadata": {},
   "source": [
    "## Default Input Value\n",
    "\n",
    "You can set a default input value for a function variable by using a keyword-like syntax in your function definition"
   ]
  },
  {
   "cell_type": "code",
   "execution_count": null,
   "metadata": {},
   "outputs": [],
   "source": [
    "def division(x, y=3, z=5): # Function has three arguments x, y, and z where y has a default value of 3 and z has a default value of 5\n",
    "\t# print(f'(x, y, z) = ({x}, {y}, {z})')\n",
    "\treturn x/y + z"
   ]
  },
  {
   "cell_type": "code",
   "execution_count": null,
   "metadata": {},
   "outputs": [],
   "source": [
    "# What output do you expect from each of the print statements below? Are they the same or different and why?\n",
    "\n",
    "ratio = division(10)\n",
    "print(ratio)\n",
    "\n",
    "ratio = division(10, 3)\n",
    "print(ratio)\n",
    "\n",
    "ratio = division(10, 3, 5)\n",
    "print(ratio)\n",
    "\n",
    "ratio = division(10, z=5, y=3)\n",
    "print(ratio)"
   ]
  },
  {
   "cell_type": "code",
   "execution_count": null,
   "metadata": {},
   "outputs": [],
   "source": [
    "# What output do you expect from each of the print statements below? Are they the same or different and why?\n",
    "\n",
    "ratio = division(10, 2, 5)\n",
    "print(ratio)\n",
    "\n",
    "ratio = division(10, y=2, z=5)\n",
    "print(ratio)\n",
    "\n",
    "ratio = division(10, z=5, y=2)\n",
    "print(ratio)"
   ]
  },
  {
   "cell_type": "code",
   "execution_count": null,
   "metadata": {},
   "outputs": [],
   "source": [
    "# What output do you expect from each of the print statements below? Are they the same or different and why?\n",
    "\n",
    "ratio = division(10)\n",
    "print(ratio)\n",
    "\n",
    "ratio = division(10, 1, 7)\n",
    "print(ratio)\n",
    "\n",
    "ratio = division(10, 7, 1)\n",
    "print(ratio)"
   ]
  },
  {
   "cell_type": "markdown",
   "metadata": {},
   "source": [
    "Modify the `division` function by uncommenting out the print statment in the body of the function. Rerun the four cells above to see what values for x, y, and z the function was provided. Are the input values for x, y, and z what you expected?"
   ]
  },
  {
   "cell_type": "markdown",
   "metadata": {},
   "source": [
    "As a general rule of thumb, if any input variables in a function definition have a default value, then a keyword argument should be provided for each of these inputs"
   ]
  },
  {
   "cell_type": "code",
   "execution_count": null,
   "metadata": {},
   "outputs": [],
   "source": [
    "ratio = division(10, y=4, z=3) # Recommended to use keyword arguments for y and z as they have a default value\n",
    "print(ratio)\n",
    "\n",
    "ratio = division(10, 4, 3) # While this produces the same value it is not recommended since y and z have default values\n",
    "print(ratio)"
   ]
  },
  {
   "cell_type": "markdown",
   "metadata": {},
   "source": [
    "Prolific Python coders will define their function with an asterisk * between the non-default and default value inputs as in the following cell. This forces each argument with a default value to be provided as a keyword argument when calling the function"
   ]
  },
  {
   "cell_type": "code",
   "execution_count": null,
   "metadata": {},
   "outputs": [],
   "source": [
    "def division(x, *, y=3, z=5): # Function has three arguments x, y, and z where y has a default value of 3 and z has a default value of 5\n",
    "\t# print(f'(x, y, z) = ({x}, {y}, {z})')\n",
    "\treturn x/y + z"
   ]
  },
  {
   "cell_type": "code",
   "execution_count": null,
   "metadata": {},
   "outputs": [],
   "source": [
    "ratio = division(10, y=4, z=3) # Should be the same as before\n",
    "print(ratio)"
   ]
  },
  {
   "cell_type": "code",
   "execution_count": null,
   "metadata": {},
   "outputs": [],
   "source": [
    "ratio = division(10, 4, 3) # Should produce a TypeError as too many positional arguments are provided to the function\n",
    "print(ratio)"
   ]
  },
  {
   "cell_type": "markdown",
   "metadata": {},
   "source": [
    "A few examples of calling the *describe_pet* function are given below. Try calling the function yourself providing in input for any pet you had in the past, have now, or want to get in the future."
   ]
  },
  {
   "cell_type": "code",
   "execution_count": null,
   "metadata": {},
   "outputs": [],
   "source": [
    "def describe_pet(animal_type, pet_name, *, age=None, color=None):\n",
    "\tprint(f\"I have a {animal_type} named {pet_name}.\")\n",
    "\tif color is not None:\n",
    "\t\tprint(f\"{pet_name} is {color}.\")\n",
    "\tif age is not None:\n",
    "\t\tprint(f\"{pet_name} is {age} years old.\")"
   ]
  },
  {
   "cell_type": "code",
   "execution_count": null,
   "metadata": {},
   "outputs": [],
   "source": [
    "describe_pet('hamster', 'Harry')"
   ]
  },
  {
   "cell_type": "code",
   "execution_count": null,
   "metadata": {},
   "outputs": [],
   "source": [
    "describe_pet('dog', pet_name='Rover', age=3)"
   ]
  },
  {
   "cell_type": "code",
   "execution_count": null,
   "metadata": {},
   "outputs": [],
   "source": [
    "describe_pet(animal_type='cat', pet_name='Whiskers', color='black and white')"
   ]
  },
  {
   "cell_type": "markdown",
   "metadata": {},
   "source": [
    "---"
   ]
  },
  {
   "cell_type": "markdown",
   "metadata": {},
   "source": [
    "## Returning multiple values\n",
    "\n",
    "So far we have only defined function returning no or a single output. However, a function can return as many outputs as you would need."
   ]
  },
  {
   "cell_type": "code",
   "execution_count": null,
   "metadata": {},
   "outputs": [],
   "source": [
    "def arithmetic_ops(a, b): # calculate the four basic arithmetic operations (sum, subtract, multiply, and divide) between two numbers and return the output from all four operations\n",
    "\tsum_value = a+b\n",
    "\tsubtract_value = a-b\n",
    "\tproduct_value = a*b\n",
    "\tdivision_value = a/b\n",
    "\treturn sum_value, subtract_value, product_value, division_value # return all four values by specifying each of them, comma seperated, in the return statement"
   ]
  },
  {
   "cell_type": "code",
   "execution_count": null,
   "metadata": {},
   "outputs": [],
   "source": [
    "values = arithmetic_ops(5, 7)\n",
    "print(values)\n",
    "print(type(values))"
   ]
  },
  {
   "cell_type": "markdown",
   "metadata": {},
   "source": [
    "To return multiple values, Python bundles them together into a single tuple that is returned from the functions. To get each returned value individually we could do either of the following"
   ]
  },
  {
   "cell_type": "code",
   "execution_count": null,
   "metadata": {},
   "outputs": [],
   "source": [
    "values = arithmetic_ops(5, 7) # return four outputs in single tuple and store in the variable values\n",
    "sum_value, subtract_value, product_value, division_value = values # split values into four variables\n",
    "print(sum_value)\n",
    "print(subtract_value)\n",
    "print(product_value)\n",
    "print(division_value)"
   ]
  },
  {
   "cell_type": "code",
   "execution_count": null,
   "metadata": {},
   "outputs": [],
   "source": [
    "sum_value, subtract_value, product_value, division_value = arithmetic_ops(5, 7) # split the tuple output from the function into four variables\n",
    "print(sum_value)\n",
    "print(subtract_value)\n",
    "print(product_value)\n",
    "print(division_value)"
   ]
  },
  {
   "cell_type": "markdown",
   "metadata": {},
   "source": [
    "Variables of different datatypes can be returned from the same function"
   ]
  },
  {
   "cell_type": "code",
   "execution_count": null,
   "metadata": {},
   "outputs": [],
   "source": [
    "def string_and_num(string, num):\n",
    "\tstring = string + ' Additional text added on'\n",
    "\tnum += 10\n",
    "\treturn string, num"
   ]
  },
  {
   "cell_type": "code",
   "execution_count": null,
   "metadata": {},
   "outputs": [],
   "source": [
    "str_out, num_out = string_and_num('Hello!', 3)\n",
    "print(str_out)\n",
    "print(num_out)"
   ]
  },
  {
   "cell_type": "markdown",
   "metadata": {},
   "source": [
    "# Exercises"
   ]
  },
  {
   "cell_type": "markdown",
   "metadata": {},
   "source": [
    "1. Write a *print_twice* function that takes as input a string of text and prints the input string twice."
   ]
  },
  {
   "cell_type": "code",
   "execution_count": null,
   "metadata": {},
   "outputs": [],
   "source": []
  },
  {
   "cell_type": "markdown",
   "metadata": {},
   "source": [
    "2a. Write a *print_box* function that takes as input a string of text and a string of a single character and displaying the single character string 10 times in a line, displays the text on the next line, and then displays the single character string 10 times in a line again.\n",
    "\n",
    "For example, calling *print_box('Hello!', '+')* should produce\n",
    "\n",
    "++++++++++\n",
    "\n",
    "Hello!\n",
    "\n",
    "++++++++++"
   ]
  },
  {
   "cell_type": "code",
   "execution_count": null,
   "metadata": {},
   "outputs": [],
   "source": []
  },
  {
   "cell_type": "markdown",
   "metadata": {},
   "source": [
    "2b. Modify the *print_box* function so that the single character string input to the function has a default value of '-' and so that this single character string input is required to be a keyword argument."
   ]
  },
  {
   "cell_type": "code",
   "execution_count": null,
   "metadata": {},
   "outputs": [],
   "source": []
  },
  {
   "cell_type": "markdown",
   "metadata": {},
   "source": [
    "2c. Further modify the *print_box* function so that the number of times the single character string is printed is equal to the number of characters in the input text string rather than 10\n",
    "\n",
    "* Hint 1: For any string, the built-in Python function `len` will return the number of characters in the string. For example, see the cell below.\n",
    "* Hint 2: Multiplying any string in Python by a whole number will repeat the string that whole number of times. For example, see the cell below."
   ]
  },
  {
   "cell_type": "code",
   "execution_count": null,
   "metadata": {},
   "outputs": [],
   "source": [
    "a = 'AB'\n",
    "print(len(a))\n",
    "print(a*5)"
   ]
  },
  {
   "cell_type": "markdown",
   "metadata": {},
   "source": [
    "3a. Write a function called *rectangle* taking in a length and width and calculating the perimeter and area of a rectangle with the given length and width."
   ]
  },
  {
   "cell_type": "code",
   "execution_count": null,
   "metadata": {},
   "outputs": [],
   "source": []
  },
  {
   "cell_type": "markdown",
   "metadata": {},
   "source": [
    "3b. Write a function called *circle* taking in a radius *r* and calculating and return the perimeter and area of a circle with radius *r*\n",
    "\n",
    "* Hint: Use the *pi* variable from the numpy package"
   ]
  },
  {
   "cell_type": "code",
   "execution_count": null,
   "metadata": {},
   "outputs": [],
   "source": []
  },
  {
   "cell_type": "markdown",
   "metadata": {},
   "source": [
    "4. Add a comment to each line in the below function that breifly describes what the code is doing at said line"
   ]
  },
  {
   "cell_type": "code",
   "execution_count": null,
   "metadata": {},
   "outputs": [],
   "source": [
    "def basic_stats(_list): # Calculate basic statistics (mean, median, mode, and range) for a list of numbers\n",
    "\tmean = sum(_list)/len(_list)\n",
    "\t_range = max(_list) - min(_list)\n",
    "\n",
    "\t_list = sorted(_list)\n",
    "\tmid = len(_list)//2\n",
    "\tmedian = (_list[mid]+_list[-mid-1])/2\n",
    "\t\n",
    "\tmode = calc_mode(_list)\n",
    "\treturn mean, median, mode, _range\n",
    "\n",
    "def calc_mode(_list):\n",
    "\tchecked = []\n",
    "\tmodes = []\n",
    "\tmax_counts = 0\n",
    "\tfor num in _list:\n",
    "\t\tif num in checked:\n",
    "\t\t\tcontinue\n",
    "\t\tchecked.append(num)\n",
    "\t\tcount = count_occurances(_list, num)\n",
    "\t\tif count > max_counts:\n",
    "\t\t\tmodes = [num]\n",
    "\t\t\tmax_counts = count\n",
    "\t\t\tcontinue\n",
    "\t\tif count == max_counts:\n",
    "\t\t\tmodes.append(num)\n",
    "\treturn modes\n",
    "\n",
    "def count_occurances(_list, entry):\n",
    "\tcount = 0\n",
    "\tfor val in _list:\n",
    "\t\tif val==entry:\n",
    "\t\t\tcount += 1\n",
    "\treturn count\n"
   ]
  }
 ],
 "metadata": {
  "kernelspec": {
   "display_name": "base",
   "language": "python",
   "name": "python3"
  },
  "language_info": {
   "codemirror_mode": {
    "name": "ipython",
    "version": 3
   },
   "file_extension": ".py",
   "mimetype": "text/x-python",
   "name": "python",
   "nbconvert_exporter": "python",
   "pygments_lexer": "ipython3",
   "version": "3.11.7"
  }
 },
 "nbformat": 4,
 "nbformat_minor": 2
}
