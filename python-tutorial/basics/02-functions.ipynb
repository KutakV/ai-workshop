{
 "cells": [
  {
   "cell_type": "markdown",
   "metadata": {},
   "source": [
    "# Functions\n",
    "\n",
    "In Python, a function is a collection of operations and logic bundled into one callable object. They can take in input variables perform the collection of operations and logic on said variables and may then return another variable"
   ]
  },
  {
   "cell_type": "markdown",
   "metadata": {},
   "source": [
    "## Built-in Functions\n",
    "\n",
    "Python, and most every Python package, come with built-in functions that you can call directly. We will take a look at a few examples, but there exist so many other functions that you will see over time as you continue to use Python"
   ]
  },
  {
   "cell_type": "markdown",
   "metadata": {},
   "source": [
    "### `print`\n",
    "\n",
    "We have already seen the `print` function which allows us to display variables and objects to the terminal"
   ]
  },
  {
   "cell_type": "code",
   "execution_count": null,
   "metadata": {},
   "outputs": [],
   "source": [
    "print() # print is a function that can take no inputs and simply prints nothing\n",
    "print(1) # or you can provide an input between parenthesis\n",
    "print(1, 2, 3, 4, 5) # or you can provide multiple inputs by inserting a comma between each seperate input\n",
    "print('Hello world! Today is a bright sunshiny day')"
   ]
  },
  {
   "cell_type": "markdown",
   "metadata": {},
   "source": [
    "Special string characters for formatting print statements include:\n",
    "* '\\n' : creates a new line\n",
    "* '\\t' : inserts a tab indent"
   ]
  },
  {
   "cell_type": "code",
   "execution_count": null,
   "metadata": {},
   "outputs": [],
   "source": [
    "print('Hello world!\\nToday is a bright sunshiny day\\n\\tAn indented line')\n",
    "print('\\t\\tTwo indents')"
   ]
  },
  {
   "cell_type": "markdown",
   "metadata": {},
   "source": [
    "`print` attempts to convert every input into a string before displaying. So, different input types can be provided to the function"
   ]
  },
  {
   "cell_type": "code",
   "execution_count": null,
   "metadata": {},
   "outputs": [],
   "source": [
    "print('the value of pi is', 3.14, True)"
   ]
  },
  {
   "cell_type": "markdown",
   "metadata": {},
   "source": [
    "`print` is an example of a function that does not return an output. Functions that do not return an output instead return the Python `None` object"
   ]
  },
  {
   "cell_type": "code",
   "execution_count": null,
   "metadata": {},
   "outputs": [],
   "source": [
    "val = print(1, 2, 3) # perform the print function and then point the variable val to the output of the print function"
   ]
  },
  {
   "cell_type": "code",
   "execution_count": null,
   "metadata": {},
   "outputs": [],
   "source": [
    "print(val) # prints None because no output is returned by the print function"
   ]
  },
  {
   "cell_type": "markdown",
   "metadata": {},
   "source": [
    "### `type`\n",
    "\n",
    "`type` is another function we have seen some of as well. It will return the type of an object"
   ]
  },
  {
   "cell_type": "code",
   "execution_count": null,
   "metadata": {},
   "outputs": [],
   "source": [
    "numeric_var = 1.234\n",
    "obj_type = type(numeric_var) # perform the type function and then point the variable obj_type to the output of the type function\n",
    "print(obj_type) # type of the numeric value 1.234"
   ]
  },
  {
   "cell_type": "code",
   "execution_count": null,
   "metadata": {},
   "outputs": [],
   "source": [
    "val = type(print) # perform the type function and then point the variable obj_type to the output of the type function\n",
    "print(val) # type of the built-in print function"
   ]
  },
  {
   "cell_type": "markdown",
   "metadata": {},
   "source": [
    "We can also compose functions together applying one function directly after another"
   ]
  },
  {
   "cell_type": "code",
   "execution_count": null,
   "metadata": {},
   "outputs": [],
   "source": [
    "numeric_var = 1.234\n",
    "print(type(numeric_var)) # type is applied first and the output from the type function is provided as input to print\n",
    "bool_var = False\n",
    "print(type(bool_var)) # type is applied first and then print"
   ]
  },
  {
   "cell_type": "markdown",
   "metadata": {},
   "source": [
    "### `input`\n",
    "\n",
    "The last built-in function we will look at is `input`. This function pauses execution and waits for a user provided input and then returns said user input as a string"
   ]
  },
  {
   "cell_type": "code",
   "execution_count": null,
   "metadata": {},
   "outputs": [],
   "source": [
    "example_input = input('Enter some value: ')"
   ]
  },
  {
   "cell_type": "code",
   "execution_count": null,
   "metadata": {},
   "outputs": [],
   "source": [
    "print(example_input)"
   ]
  },
  {
   "cell_type": "markdown",
   "metadata": {},
   "source": [
    "## User-defined functions\n",
    "\n",
    "Often times you will want to be able to bundle together a specific set of operations and logic into your own custom function. This can be done using the Python keyword `def`"
   ]
  },
  {
   "cell_type": "code",
   "execution_count": null,
   "metadata": {},
   "outputs": [],
   "source": [
    "def add_two(x, y):\n",
    "\treturn x+y"
   ]
  },
  {
   "cell_type": "code",
   "execution_count": null,
   "metadata": {},
   "outputs": [],
   "source": [
    "output = add_two(1, 4)\n",
    "print(output)"
   ]
  },
  {
   "cell_type": "code",
   "execution_count": null,
   "metadata": {},
   "outputs": [],
   "source": [
    "print(add_two)"
   ]
  },
  {
   "cell_type": "code",
   "execution_count": null,
   "metadata": {},
   "outputs": [],
   "source": [
    "def quadratic_form(x, b, power):\n",
    "\tdifference = x-b\n",
    "\treturn difference**power"
   ]
  },
  {
   "cell_type": "code",
   "execution_count": null,
   "metadata": {},
   "outputs": [],
   "source": [
    "print(quadratic_form(10, 3, 2))"
   ]
  },
  {
   "cell_type": "markdown",
   "metadata": {},
   "source": [
    "There is a whole depth of content on functions so we will return to this topic in the future\n",
    "\n",
    "A few user defined function guidelines:\n",
    "* Function names generally following the same requirements as variable names (no spaces, most non-alphanumeric characters not allowed, etc.)\n",
    "* `return` allows you to return a specific object from a function. If a function has no `return` by default that function will return `None`"
   ]
  }
 ],
 "metadata": {
  "kernelspec": {
   "display_name": "base",
   "language": "python",
   "name": "python3"
  },
  "language_info": {
   "codemirror_mode": {
    "name": "ipython",
    "version": 3
   },
   "file_extension": ".py",
   "mimetype": "text/x-python",
   "name": "python",
   "nbconvert_exporter": "python",
   "pygments_lexer": "ipython3",
   "version": "3.11.7"
  }
 },
 "nbformat": 4,
 "nbformat_minor": 2
}
