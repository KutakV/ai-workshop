{
 "cells": [
  {
   "cell_type": "markdown",
   "metadata": {},
   "source": [
    "# Running Python\n",
    "\n",
    "Python can be run in a number of ways be we will highlight 2 key ways and one less used way here:"
   ]
  },
  {
   "cell_type": "markdown",
   "metadata": {},
   "source": [
    "## 1. Running from a Jupyter Notebook (.ipynb files)\n",
    "\n",
    "A Jupyter Notebook (what this file is) is a type of structured Python file allowing you to execute chunks of Python code within cells where the output from the Python code, if any, will display directly below the cell. You can also have markdown (text) cell such as this cell here that allow you to add notes about your code. These Jupyter Notebooks are great tools for writing, testing, and debugging peices of Python code (often the peice being a bigger part of a project) and for data work \n",
    "\n",
    "Try running the cells below to perform some basic arithemitic. You are able to run cells one at a time and, if you start two cells back to back, each subsequent cell will execute once the previous cell completes."
   ]
  },
  {
   "cell_type": "code",
   "execution_count": null,
   "metadata": {},
   "outputs": [],
   "source": [
    "1+1 # addition"
   ]
  },
  {
   "cell_type": "code",
   "execution_count": null,
   "metadata": {},
   "outputs": [],
   "source": [
    "1-2 # subtraction"
   ]
  },
  {
   "cell_type": "code",
   "execution_count": null,
   "metadata": {},
   "outputs": [],
   "source": [
    "3*5 # multiplication"
   ]
  },
  {
   "cell_type": "code",
   "execution_count": null,
   "metadata": {},
   "outputs": [],
   "source": [
    "8/3 # division"
   ]
  },
  {
   "cell_type": "code",
   "execution_count": null,
   "metadata": {},
   "outputs": [],
   "source": [
    "2**4 # exponentiation"
   ]
  },
  {
   "cell_type": "markdown",
   "metadata": {},
   "source": [
    "Additional cells can be added to a Jupyter Notebook by using the `+ Code` or `+ Markdown` buttons (within VS Code) that present in the top left of the notebook and below a cell when you hover your mouse near the bottom"
   ]
  },
  {
   "cell_type": "markdown",
   "metadata": {},
   "source": [
    "## 2. Running from a Python file (.py files)\n",
    "\n",
    "A Python file is a glorified text document that is able to be recognized and executed by a Python interpreter. A Python file allows you to run many lines of Python all at once by simply running the script. While we will mainly stick to Jupyter Notebook for this tutorial, Python files can, and should, be utilized for developing large and complex software where code from many different Python files is used interconnectedly to perform some powerful operations. Most Python packages (which we will work with later) essentially are a collection of Python files."
   ]
  },
  {
   "cell_type": "markdown",
   "metadata": {},
   "source": [
    "### 2a. Running a Python file within VS Code\n",
    "\n",
    "In VS Code, open the file [0-getting_started.py](0-getting_started.py), click the arrow in the top right to run the program. Nothing should display, but so long as no errors popped up you are good. \n",
    "\n",
    "Add a `print()` for each line in [0-getting_started.py](0-getting_started.py) and rerun the script. (i.e., line 1 change from 1+1 to print(1+1)) "
   ]
  },
  {
   "cell_type": "markdown",
   "metadata": {},
   "source": [
    "### 2b. Running Python from the Command Line\n",
    "\n",
    "Most commonly Python will be run within an Integrated Development Environment (IDE) such as VS Code. An IDE allows you to both write/develop code and execute it hence its popularity. An alternative is to run Python from the command line, which allows only for execution within the command line interface while a another editor (text editor Notepad, VS Code, etc.) would actually be used for writting the code.\n",
    "\n",
    "Any of the following Command Line terminals should work here\n",
    "1. Anaconda Prompt\n",
    "1. Terminal window in VS Code\n",
    "1. Python\n",
    "1. Command Prompt (if Python was installed system wide and added to PATH)\n",
    "1. Windows Powershell (if Python was installed system wide and added to PATH)\n",
    "\n",
    "In VS Code file explorer, right click the [0-getting_started.py](0-getting_started.py) file and select Copy Path. Go ahead and open Anaconda Prompt. Type *python*, paste the copied path, and hit enter to run the file"
   ]
  },
  {
   "cell_type": "markdown",
   "metadata": {},
   "source": [
    "# Displaying Values\n",
    "\n",
    "We noticed above that Jupyter Notebooks will automatically display the final output from a cell while the Python file only displays values when included in the `print` function. We can use the `print` function within Jupyter Notebooks as well, which is particularly useful for displaying multiple values from one cell and for debugging Python code."
   ]
  },
  {
   "cell_type": "code",
   "execution_count": null,
   "metadata": {},
   "outputs": [],
   "source": [
    "1+1\n",
    "2*8 # only this one is displayed"
   ]
  },
  {
   "cell_type": "code",
   "execution_count": null,
   "metadata": {},
   "outputs": [],
   "source": [
    "print(1+1) # Displayed\n",
    "print(2*8) # Displayed"
   ]
  },
  {
   "cell_type": "markdown",
   "metadata": {},
   "source": [
    "Multiple outputs can be printed at once by providing comma separated inputs to the `print` function"
   ]
  },
  {
   "cell_type": "code",
   "execution_count": null,
   "metadata": {},
   "outputs": [],
   "source": [
    "print(1+1, 2*8)"
   ]
  },
  {
   "cell_type": "markdown",
   "metadata": {},
   "source": [
    "More complex print statements can be constructed but we will see those over time"
   ]
  }
 ],
 "metadata": {
  "kernelspec": {
   "display_name": "base",
   "language": "python",
   "name": "python3"
  },
  "language_info": {
   "codemirror_mode": {
    "name": "ipython",
    "version": 3
   },
   "file_extension": ".py",
   "mimetype": "text/x-python",
   "name": "python",
   "nbconvert_exporter": "python",
   "pygments_lexer": "ipython3",
   "version": "3.11.7"
  }
 },
 "nbformat": 4,
 "nbformat_minor": 2
}
