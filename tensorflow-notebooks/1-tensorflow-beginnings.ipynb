{
 "cells": [
  {
   "cell_type": "markdown",
   "metadata": {},
   "source": [
    "## Lesson 1: TensorFlow Beginnings\n",
    "\n",
    "#### Lesson Overview\n",
    "We will introduce a `tensor` and some basics about working with them\n",
    "\n",
    "#### Lesson Goals\n",
    "By the end of this lesson you should\n",
    "1. Know what a tensor is and how to create TensorFlow Tensors\n",
    "2. Know how to perform various operations on TensorFlow Tensors"
   ]
  },
  {
   "cell_type": "code",
   "execution_count": null,
   "metadata": {},
   "outputs": [],
   "source": [
    "# Load necessary packages for this lesson\n",
    "import os\n",
    "\n",
    "import numpy as np\n",
    "import tensorflow as tf\n",
    "import matplotlib.pyplot as plt\n",
    "import sklearn\n",
    "from PIL import Image, ImageOps"
   ]
  },
  {
   "cell_type": "markdown",
   "metadata": {},
   "source": [
    "#### What are tensors?\n",
    "\n",
    "A tensor is a generalization on the idea of a matrix or vector to higher dimensions. While a matrix is a 2-dimensional array and a vector is a 1-dimensional array, a tensor is an arbitrary N-dimensional array. We refer to each dimension of an array as an **axis**, for instance matrices have two axes: the first axis denotes the number of rows and the second axis denotes the number of columns.\n",
    "\n",
    "Consider, as an example, a red-green-blue (RGB) color image, which contains three matrices of pixel intencities one corresponding to red, one corresponding to green, and one corresponding to blue"
   ]
  },
  {
   "cell_type": "code",
   "execution_count": null,
   "metadata": {},
   "outputs": [],
   "source": [
    "filepath = os.path.join('..', 'data', 'dog.jpg')\n",
    "img = Image.open(filepath)"
   ]
  },
  {
   "cell_type": "markdown",
   "metadata": {},
   "source": [
    "Plot the image"
   ]
  },
  {
   "cell_type": "code",
   "execution_count": null,
   "metadata": {},
   "outputs": [],
   "source": [
    "plt.imshow(img)\n",
    "plt.show()"
   ]
  },
  {
   "cell_type": "markdown",
   "metadata": {},
   "source": [
    "Convert image to a numpy array and display the shape"
   ]
  },
  {
   "cell_type": "code",
   "execution_count": null,
   "metadata": {},
   "outputs": [],
   "source": [
    "img_array = np.array(img)\n",
    "print(img_array.shape)"
   ]
  },
  {
   "cell_type": "markdown",
   "metadata": {},
   "source": [
    "We can see we have an image that is 5212 pixels tall, 3475 pixels wide, and contains 3 color channels. Said another way, we have 3 matrices of size 5212x3475, which we stack one on top of another (think of laying pages of paper in a stack). Color images are examples of 3-dimensional tensors"
   ]
  },
  {
   "cell_type": "markdown",
   "metadata": {},
   "source": [
    "#### TensorFlow Tensor\n",
    "\n",
    "In TensorFlow we create and store tensors as tf.Tensor or tf.Variable objects. A tf.Tensor is essentially equivallent to a numpy array, but allows for certain TensorFlow operations. A tf.Variable is a special tf.Tensor to store the parameters (a.k.a weights) of a neural network model. Both can be created as follows:"
   ]
  },
  {
   "cell_type": "code",
   "execution_count": null,
   "metadata": {},
   "outputs": [],
   "source": [
    "tensor = tf.constant(img_array)\n",
    "tensor2 = tf.convert_to_tensor(img_array)\n",
    "var_tensor = tf.Variable(img_array)"
   ]
  },
  {
   "cell_type": "markdown",
   "metadata": {},
   "source": [
    "#### Tensor Shape and Size\n",
    "\n",
    "We can calculate the shape and size of a tensor as:"
   ]
  },
  {
   "cell_type": "code",
   "execution_count": null,
   "metadata": {},
   "outputs": [],
   "source": [
    "tensor_shape = tensor.shape # or tf.shape(tensor)\n",
    "print(f'1.) {tensor_shape}')\n",
    "tensor_size = tf.size(tensor)\n",
    "print(f'2.) {tensor_size}')"
   ]
  },
  {
   "cell_type": "markdown",
   "metadata": {},
   "source": [
    "#### Tensor Slicing\n",
    "\n",
    "A tensor can be sliced or indexed in an equivallent way to numpy arrays. Generally this looks like\n",
    "<center> tensor[start:stop:step] </center>\n",
    "\n",
    "* `start` starting index. If omitted is 0, the start of the tensor\n",
    "* `stop` ending index. If omitted is the end of the tensor\n",
    "* `step` spacing between samples taken. If omitted is 1 "
   ]
  },
  {
   "cell_type": "code",
   "execution_count": null,
   "metadata": {},
   "outputs": [],
   "source": [
    "sliced_tensor = tensor[1000:3000] # slice tensor along the first axis (image height) taking entries 1000 through 3000\n",
    "\n",
    "print(sliced_tensor.shape) # print new shape\n",
    "\n",
    "plt.imshow(sliced_tensor) # Compare this to the original plotted image. We can see the above slice extracted the image strip between heights 1000 and 3000\n",
    "plt.show()"
   ]
  },
  {
   "cell_type": "markdown",
   "metadata": {},
   "source": [
    "We can slice or index along multiple dimensions at the same time by separating the indices we want to take with a comma\n",
    "<center> tensor[axis 0 start : axis 0 stop : axis 0 step, &nbsp  axis 1 start : axis 1 stop : axis 1 step, etc.] </center>"
   ]
  },
  {
   "cell_type": "code",
   "execution_count": null,
   "metadata": {},
   "outputs": [],
   "source": [
    "sliced_tensor = tensor[1000:3000, 500:2500] # slice tensor along the first axis (image height) taking entries 1000 through 3000 AND slice along second axis (image width) taking entries 500 through 2500\n",
    "\n",
    "print(sliced_tensor.shape) # print new shape\n",
    "\n",
    "plt.imshow(sliced_tensor) # Compare this to the original plotted image. We can see the above slice extracted the image square between heights 1000 and 3000 and widths 500 and 2500\n",
    "plt.show()"
   ]
  },
  {
   "cell_type": "markdown",
   "metadata": {},
   "source": [
    "Here are a few more examples"
   ]
  },
  {
   "cell_type": "code",
   "execution_count": null,
   "metadata": {},
   "outputs": [],
   "source": [
    "sliced_tensor = tensor[:, 500:2500] # select entirety of first axis (using just :) AND slice along second axis (image width) taking entries 500 through 2500\n",
    "print(sliced_tensor.shape) # print new shape\n",
    "\n",
    "plt.imshow(sliced_tensor) # Compare this to the original plotted image\n",
    "plt.show()"
   ]
  },
  {
   "cell_type": "code",
   "execution_count": null,
   "metadata": {},
   "outputs": [],
   "source": [
    "sliced_tensor = tensor[1000::5, 500:2500] # take every 5th entry along the first axis (image height) AND slice along second axis (image width) taking entries 500 through 2500\n",
    "print(sliced_tensor.shape) # print new shape\n",
    "\n",
    "plt.imshow(sliced_tensor) # Compare this to the original plotted image\n",
    "plt.show()"
   ]
  },
  {
   "cell_type": "markdown",
   "metadata": {},
   "source": [
    "#### Tensor Operations\n",
    "\n",
    "Standard mathematical operations can be applied to tensors"
   ]
  },
  {
   "cell_type": "markdown",
   "metadata": {},
   "source": [
    "Add, subtract, elementwise divide, and elementwise multiply tensors using +, -, /, and *\n",
    "\n",
    "Tensors must be of the same shape for these operations"
   ]
  },
  {
   "cell_type": "code",
   "execution_count": null,
   "metadata": {},
   "outputs": [],
   "source": [
    "# Generate tensors with entires sample random \n",
    "tf.random.set_seed(1) # set random seed\n",
    "tensor1 = tf.random.normal(shape=(2, 3, 4))\n",
    "tensor2 = tf.random.normal(shape=(2, 3, 4))\n",
    "\n",
    "sum_tensor = tensor1+tensor2\n",
    "subtract_tensor = tensor1-tensor2\n",
    "divide_tensor = tensor1/tensor2\n",
    "multiply_tensor = tensor1*tensor2\n",
    "\n",
    "# print('Tensor 1')\n",
    "# print(tensor1)\n",
    "# print('\\n')\n",
    "\n",
    "# print('Tensor 2')\n",
    "# print(tensor2)\n",
    "# print('\\n')\n",
    "\n",
    "# print('Sum Tensor')\n",
    "# print(sum_tensor)\n",
    "# print('\\n')\n",
    "\n",
    "# print('Subtract Tensor')\n",
    "# print(subtract_tensor)\n",
    "# print('\\n')\n",
    "\n",
    "# print('Divide Tensor')\n",
    "# print(divide_tensor)\n",
    "# print('\\n')\n",
    "\n",
    "# print('Multiply Tensor')\n",
    "# print(multiply_tensor)"
   ]
  },
  {
   "cell_type": "markdown",
   "metadata": {},
   "source": [
    "TensorFlow also has a number of linear algebra operations such as matrix multiplication and eigenvalue or eigenvector calculation. **TBD add examples about these operations.** For now, check out the [documentation for examples of these](https://www.tensorflow.org/api_docs/python/tf/linalg)"
   ]
  }
 ],
 "metadata": {
  "kernelspec": {
   "display_name": "tf_practice",
   "language": "python",
   "name": "python3"
  },
  "language_info": {
   "codemirror_mode": {
    "name": "ipython",
    "version": 3
   },
   "file_extension": ".py",
   "mimetype": "text/x-python",
   "name": "python",
   "nbconvert_exporter": "python",
   "pygments_lexer": "ipython3",
   "version": "3.9.18"
  }
 },
 "nbformat": 4,
 "nbformat_minor": 2
}
