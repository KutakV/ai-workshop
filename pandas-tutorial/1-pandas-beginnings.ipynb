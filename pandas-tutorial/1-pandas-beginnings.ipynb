{
 "cells": [
  {
   "cell_type": "markdown",
   "id": "4eedaf6c-296c-442c-92ec-60b8a4595781",
   "metadata": {
    "slideshow": {
     "slide_type": "slide"
    },
    "tags": []
   },
   "source": [
    "## Lesson 1: Pandas Beginnings\n",
    "\n",
    "#### Lesson Overview\n",
    "First, we will introduce a `DataFrame`, the core data structure of the *Pandas* library, and walk through some basics about working with them.\n",
    "\n",
    "#### Lesson Goals\n",
    "By the end of this lesson you should be able to\n",
    "1. Load CSV data into a DataFrame\n",
    "2. Perform DataFrame operations to inspect, filter, and calculate statistics about the data"
   ]
  },
  {
   "cell_type": "code",
   "execution_count": null,
   "id": "0a181367",
   "metadata": {},
   "outputs": [],
   "source": [
    "# Load necessary packages for this lesson\n",
    "import os\n",
    "\n",
    "import pandas as pd"
   ]
  },
  {
   "cell_type": "markdown",
   "id": "002b1f0a-a96e-424b-993a-8126452d31a1",
   "metadata": {
    "slideshow": {
     "slide_type": "slide"
    },
    "tags": []
   },
   "source": [
    "#### DataFrame Structure\n",
    "A **DataFrame** is a heterogeneous table of data with column names. Each row in a DataFrame corresponds to one data sample, which consists of an entry for every single column. Consider the example in the following cell\n",
    "\n",
    "* This DataFrame has column names: 'name', 'id', 'nametype', 'recclass', 'mass (g)' etc.\n",
    "\n",
    "* The first row is a meteorite named 'Aachen' with id 1, a Valid nametype, L5 recclass, 21 gram mass, etc. We consider this row as a single data sample since it contains all information for one meteorite. Row two then contains all info for another meteorite."
   ]
  },
  {
   "cell_type": "code",
   "execution_count": null,
   "id": "ce20b422",
   "metadata": {},
   "outputs": [],
   "source": [
    "filepath = os.path.realpath(os.path.join(os.getcwd(), '..', 'data', 'Meteorite_Landings.csv')) # Path to the data location\n",
    "print(filepath) # display path to file for example purposes only\n",
    "meteorites = pd.read_csv(filepath, nrows=5) # Load 5 rows of the data\n",
    "\n",
    "meteorites # display the data"
   ]
  },
  {
   "cell_type": "markdown",
   "id": "985bd882",
   "metadata": {},
   "source": [
    "#### Load data from a CSV\n",
    "\n",
    "In the previous cell, we showed an example of loading in a dataset about Meteorite Landings (*Source: [NASA's Open Data Portal](https://data.nasa.gov/Space-Science/Meteorite-Landings/gh4g-9sfh)*) from a CSV file\n",
    "\n",
    "* We use the command/function: *pd.read_csv* which requires one input a string (or os.PathLike) specifying the file location \n",
    "\n",
    "<center> pd.read_csv(filepath) </center>\n",
    "\n",
    "(*Note: There are many optional inputs to this function that handle some initial processing while reading in the file &ndash; check out the [documentation for all inputs](https://pandas.pydata.org/docs/reference/api/pandas.read_csv.html). Much of the time these optional inputs are unncessary and when they are I find a Google search or ChatGPT question about how I want to load in the data will tell me what to provide for these optional inputs.)*\n",
    "\n",
    "##### Lets break down the previous cell in greater detail\n",
    "\n",
    "1. Specify the path to the dataset\n",
    "<center> filepath = os.path.realpath(os.path.join(os.getcwd(), '..', 'data', 'Meteorite_Landings.csv')) </center>\n",
    "\n",
    "* *os.getcwd()* returns the path to your current working directory\n",
    "* *os.path.join(os.getcwd(), '..', 'data', 'meteorite_Landings.csv')* joins together all inputs *os.getcwd()*, '..', 'data', and 'Meteorite_Landings.csv' into a single path. (Essentially it adds a backslash \\ between each input)\n",
    "\t* Remark: the '..' actually tells Python to remove the previous folder from the path, which we can see using *os.path.realpath*\n",
    "* *os.path.realpath(os.path.join(os.getcwd(), '..', 'data', 'meteorite_Landings.csv'))* this creates the \"real path\" by applying the operation that '..' performs\n",
    "\n",
    "You can see these *os* commands in action by running the next cell. Note that a string specifying the path could be used instead of using these *os* commands. For example, open file explorer and navigate to the folder containing the file you want to load in. Right click the file, select \"Properties\" and a window will pop up. In this window locate the line \"Location\" and this is the file path to your file of interest. You can copy this as paste it into a string and use this as your filepath.\n",
    "\n",
    "2. Load in the dataset\n",
    "<center> meteorites = pd.read_csv(filepath, nrows=5) </center>\n",
    "\n",
    "* This loads in the first 5 rows of the CSV file 'Meteorite_Landings.csv'"
   ]
  },
  {
   "cell_type": "code",
   "execution_count": null,
   "id": "f1c9a20a",
   "metadata": {},
   "outputs": [],
   "source": [
    "print(os.getcwd()) # should look like '<path to ai-workshop folder>\\ai-workshop\\pandas-notebooks'\n",
    "print(os.path.join(os.getcwd(), '..', 'data', 'Meteorite_Landings.csv'))\t# should look like '<path to ai-workshop folder>\\ai-workshop\\pandas-notebooks\\..\\data\\Meteorite_Landings.csv'\n",
    "print(os.path.realpath(os.path.join(os.getcwd(), '..', 'data', 'Meteorite_Landings.csv')))\t# should look like '<path to ai-workshop folder>\\ai-workshop\\data\\Meteorite_Landings.csv'"
   ]
  },
  {
   "cell_type": "markdown",
   "id": "a3bd06b0",
   "metadata": {},
   "source": [
    "#### Inspecting the data\n",
    "Now that we have some data, lets perform an initial inspection of it. This gives us information on what the data looks like, how many rows/columns there are, what type of data we have etc.\n",
    "\n",
    "First we will load the entire dataset by dropping the *nrows=5* optional input for *pd.read_csv*"
   ]
  },
  {
   "cell_type": "code",
   "execution_count": null,
   "id": "c8c4e00d-8bbb-47ee-9c84-dba7b6c19636",
   "metadata": {
    "tags": []
   },
   "outputs": [],
   "source": [
    "meteorites = pd.read_csv(filepath) # load in the full dataset"
   ]
  },
  {
   "cell_type": "markdown",
   "id": "0246c277-5638-49a9-a7e1-6e82b1c15265",
   "metadata": {
    "slideshow": {
     "slide_type": "subslide"
    },
    "tags": []
   },
   "source": [
    "How many rows and columns are there?"
   ]
  },
  {
   "cell_type": "code",
   "execution_count": null,
   "id": "d968d99d-dbf8-4402-a556-4200e13afe72",
   "metadata": {},
   "outputs": [],
   "source": [
    "meteorites.shape"
   ]
  },
  {
   "cell_type": "markdown",
   "id": "8ee994e7-25e0-4062-ae29-fadb0f698c88",
   "metadata": {
    "slideshow": {
     "slide_type": "fragment"
    },
    "tags": []
   },
   "source": [
    "What are the column names?"
   ]
  },
  {
   "cell_type": "code",
   "execution_count": null,
   "id": "24045c3d-085f-485d-b5a7-422037b24272",
   "metadata": {},
   "outputs": [],
   "source": [
    "meteorites.columns"
   ]
  },
  {
   "cell_type": "markdown",
   "id": "3b138718-9c73-40f0-b4d2-7280a688fa89",
   "metadata": {
    "slideshow": {
     "slide_type": "subslide"
    },
    "tags": []
   },
   "source": [
    "What type of data does each column currently hold?"
   ]
  },
  {
   "cell_type": "code",
   "execution_count": null,
   "id": "408c70cc-f900-45d2-828d-827ba6dd4123",
   "metadata": {},
   "outputs": [],
   "source": [
    "meteorites.dtypes"
   ]
  },
  {
   "cell_type": "markdown",
   "id": "d6011183-5228-4f1c-a7c4-3f4e1cc9a4db",
   "metadata": {
    "slideshow": {
     "slide_type": "subslide"
    },
    "tags": []
   },
   "source": [
    "What does the data look like?"
   ]
  },
  {
   "cell_type": "code",
   "execution_count": null,
   "id": "3de2f605-ca0a-4e5e-9add-76309296adf5",
   "metadata": {},
   "outputs": [],
   "source": [
    "meteorites.head() # display first 5 rows of the DataFrame"
   ]
  },
  {
   "cell_type": "markdown",
   "id": "54e767f9-adb9-4921-86be-75426fb13846",
   "metadata": {
    "slideshow": {
     "slide_type": "subslide"
    },
    "tags": []
   },
   "source": [
    "Sometimes there may be extraneous data at the end of the file, so checking the bottom few rows is also important:"
   ]
  },
  {
   "cell_type": "code",
   "execution_count": null,
   "id": "3b7f694d-c34c-4042-a051-07dc8759a11c",
   "metadata": {
    "tags": []
   },
   "outputs": [],
   "source": [
    "meteorites.tail() # display final 5 rows of the DataFrame"
   ]
  },
  {
   "cell_type": "markdown",
   "id": "3f4989da-09bd-4f22-bb5a-b69d57e07b00",
   "metadata": {
    "slideshow": {
     "slide_type": "subslide"
    },
    "tags": []
   },
   "source": [
    "Get some summarized information about the DataFrame"
   ]
  },
  {
   "cell_type": "code",
   "execution_count": null,
   "id": "acbaa48e-0ebc-4412-b5ff-bded4f43e806",
   "metadata": {},
   "outputs": [],
   "source": [
    "meteorites.info()"
   ]
  },
  {
   "cell_type": "markdown",
   "id": "0d63f1c9-2b23-4585-8df0-358159b26801",
   "metadata": {
    "slideshow": {
     "slide_type": "slide"
    },
    "tags": []
   },
   "source": [
    "#### Extracting subsets\n",
    "\n",
    "An important part of working with DataFrames is extracting subsets of the data: finding rows that meet a certain set of criteria, isolating columns/rows of interest, etc. After narrowing down our data, we are closer to discovering insights. This section will be the backbone of many analysis tasks."
   ]
  },
  {
   "cell_type": "markdown",
   "id": "9c1a3793-29f7-4c0e-90d3-230475c611f7",
   "metadata": {
    "slideshow": {
     "slide_type": "subslide"
    },
    "tags": []
   },
   "source": [
    "#### Selecting columns\n",
    "\n",
    "We can select columns as attributes if their names would be valid Python variables:"
   ]
  },
  {
   "cell_type": "code",
   "execution_count": null,
   "id": "2a084a5d-3d1c-4bef-9704-7c7ec69a73b1",
   "metadata": {},
   "outputs": [],
   "source": [
    "meteorites.name"
   ]
  },
  {
   "cell_type": "markdown",
   "id": "56a74bb0",
   "metadata": {},
   "source": [
    "Or we can select columns as dictionary string keys. Selecting columns must be done in this way in the column name is not a valid Python variable. For example the column 'mass (g)' must be selected as a dictionary key"
   ]
  },
  {
   "cell_type": "code",
   "execution_count": null,
   "id": "80fb2f23",
   "metadata": {},
   "outputs": [],
   "source": [
    "meteorites['name']"
   ]
  },
  {
   "cell_type": "markdown",
   "id": "ac335459-7a87-443f-b349-7a7b826a5ffa",
   "metadata": {
    "slideshow": {
     "slide_type": "subslide"
    },
    "tags": []
   },
   "source": [
    "We can also select multiple columns at once using a list of dictionary string keys"
   ]
  },
  {
   "cell_type": "code",
   "execution_count": null,
   "id": "df5c98ef-0227-44e4-8038-de151a9d8717",
   "metadata": {},
   "outputs": [],
   "source": [
    "meteorites[['name', 'mass (g)']]"
   ]
  },
  {
   "cell_type": "markdown",
   "id": "c3c390e8-1199-4cfe-a8f9-6998ddfa9f14",
   "metadata": {
    "slideshow": {
     "slide_type": "subslide"
    },
    "tags": []
   },
   "source": [
    "#### Selecting rows\n",
    "\n",
    "We can select rows using standard Python list slicing"
   ]
  },
  {
   "cell_type": "code",
   "execution_count": null,
   "id": "c1a63e64-8a01-4762-b1c2-79b2f1068ea9",
   "metadata": {},
   "outputs": [],
   "source": [
    "meteorites[100:104] # select rows 100 - 103"
   ]
  },
  {
   "cell_type": "markdown",
   "id": "84a61a58-50ca-4f10-ad26-36db5022ee9f",
   "metadata": {
    "slideshow": {
     "slide_type": "subslide"
    },
    "tags": []
   },
   "source": [
    "#### Indexing: Selecting rows and columns\n",
    "\n",
    "We use `iloc[]` to select rows and columns by their position:"
   ]
  },
  {
   "cell_type": "code",
   "execution_count": null,
   "id": "50087ab8-2a1d-4312-a7c7-791bc7c35e9b",
   "metadata": {},
   "outputs": [],
   "source": [
    "meteorites.iloc[100:104, [0, 3, 4, 6]] # select rows 100 - 103 and columns at index 0, 3, 4, and 6"
   ]
  },
  {
   "cell_type": "markdown",
   "id": "1798f9cc-8f05-4147-a351-cb3f9f6b765c",
   "metadata": {
    "slideshow": {
     "slide_type": "fragment"
    },
    "tags": []
   },
   "source": [
    "We use `loc[]` to select by name:"
   ]
  },
  {
   "cell_type": "code",
   "execution_count": null,
   "id": "eb7a1cdb-e0cc-4c58-ae96-1dabe4d5fad7",
   "metadata": {},
   "outputs": [],
   "source": [
    "meteorites.loc[100:104, 'mass (g)':'year'] # select rows 100 - 103 and columns 'mass (g)' - 'year'"
   ]
  },
  {
   "cell_type": "code",
   "execution_count": null,
   "id": "4108c4f3",
   "metadata": {},
   "outputs": [],
   "source": [
    "meteorites.loc[100:104, ['name', 'mass (g)', 'year']] # select rows 100 - 103 and columns 'name', 'mass (g)', and 'year'"
   ]
  },
  {
   "cell_type": "markdown",
   "id": "d601db18-6091-4234-916c-f5d5e6f8fd86",
   "metadata": {
    "slideshow": {
     "slide_type": "subslide"
    },
    "tags": []
   },
   "source": [
    "#### Filtering with Boolean masks\n",
    "\n",
    "A **Boolean** is a True or False value\n",
    "\n",
    "A **Boolean mask** is a array-like structure of Boolean values &ndash; it's a way to specify which rows/columns we want to select (`True`) and which we don't (`False`)"
   ]
  },
  {
   "cell_type": "markdown",
   "id": "753004e2-c9ef-4dbf-86cc-fd5d48babeb2",
   "metadata": {
    "slideshow": {
     "slide_type": "subslide"
    },
    "tags": []
   },
   "source": [
    "Here's an example of a Boolean mask for meteorites weighing more than 50 grams that were found on Earth (i.e., they were not observed falling):\n",
    "\n",
    "*(Note the syntax. We surround each condition with parentheses, and we use bitwise operators (`&`, `|`, `~`) instead of logical operators (`and`, `or`, `not`))*"
   ]
  },
  {
   "cell_type": "code",
   "execution_count": null,
   "id": "1f59f4cb-9f82-42ef-8c5f-c42d0f48447d",
   "metadata": {},
   "outputs": [],
   "source": [
    "mask = (meteorites['mass (g)'] > 50) & (meteorites.fall == 'Found')\n",
    "print(mask)"
   ]
  },
  {
   "cell_type": "markdown",
   "id": "c1cf8e72",
   "metadata": {},
   "source": [
    "We can use this mask to select the subset of meteorites satisfying the condition that they weight more than 50 grams and were found on Earth"
   ]
  },
  {
   "cell_type": "code",
   "execution_count": null,
   "id": "581c3ff9",
   "metadata": {},
   "outputs": [],
   "source": [
    "meteorites[mask]"
   ]
  },
  {
   "cell_type": "markdown",
   "id": "0086f863-cd77-4e0d-bea7-364b18d4ed6a",
   "metadata": {
    "slideshow": {
     "slide_type": "subslide"
    },
    "tags": []
   },
   "source": [
    "Here is another Boolean mask to select the subset of meteorites weighing more than 1 million grams (1,000 kilograms or roughly 2,205 pounds) that were observed falling:"
   ]
  },
  {
   "cell_type": "code",
   "execution_count": null,
   "id": "46727a7f-d5e7-4de9-b69a-762413de9567",
   "metadata": {},
   "outputs": [],
   "source": [
    "mask = (meteorites['mass (g)'] > 1e6) & (meteorites.fall == 'Fell')\n",
    "meteorites[mask]"
   ]
  },
  {
   "cell_type": "markdown",
   "id": "b4e791ea-92e5-4f30-974c-63b9195af1c2",
   "metadata": {
    "slideshow": {
     "slide_type": "subslide"
    },
    "tags": []
   },
   "source": [
    "An alternative to the Boolean masks above is the `query()` method of a DataFrame:\n",
    "\n",
    "*(Note, in the `query()` method we can use both logical operators and bitwise operators)*"
   ]
  },
  {
   "cell_type": "code",
   "execution_count": null,
   "id": "bde8231a-3f4a-43e1-a90e-051a125a00af",
   "metadata": {},
   "outputs": [],
   "source": [
    "meteorites.query(\"`mass (g)` > 1e6 and fall == 'Fell'\")"
   ]
  },
  {
   "cell_type": "markdown",
   "id": "82403c01",
   "metadata": {},
   "source": [
    "We can combine Boolean masks and `query()` with `loc[]` and `iloc[]`"
   ]
  },
  {
   "cell_type": "code",
   "execution_count": null,
   "id": "b5ed287e",
   "metadata": {},
   "outputs": [],
   "source": [
    "meteorites[(meteorites['mass (g)'] > 1e6) & (meteorites.fall == 'Fell')].loc[0:500, ['name', 'mass (g)', 'year']] # from the first 500 meteorites select the ones weighing more than 1 million grams that were observed falling and display their name, mass, and what year they fell"
   ]
  },
  {
   "cell_type": "markdown",
   "id": "619cd5be-db0e-4ce6-99fb-1ebe6328e693",
   "metadata": {
    "slideshow": {
     "slide_type": "slide"
    },
    "tags": []
   },
   "source": [
    "#### Calculating summary statistics\n",
    "\n",
    "Next, we will discuss how we can calcualate various statistics of our dataset to gain some valuable insights"
   ]
  },
  {
   "cell_type": "markdown",
   "id": "2e45f672-cb84-4718-a9f1-6e7abf16252e",
   "metadata": {
    "slideshow": {
     "slide_type": "subslide"
    },
    "tags": []
   },
   "source": [
    "How many of the meteorites were found versus observed falling?\n",
    "\n",
    "*(Note, pass in `normalize=True` to see this result as percentages. Check the [documentation](https://pandas.pydata.org/docs/reference/api/pandas.DataFrame.value_counts.html) for additional functionality.)*"
   ]
  },
  {
   "cell_type": "code",
   "execution_count": null,
   "id": "01433b12-c3f2-4680-a654-bb20bc8c2157",
   "metadata": {},
   "outputs": [],
   "source": [
    "meteorites.fall.value_counts()"
   ]
  },
  {
   "cell_type": "markdown",
   "id": "ef8f5c35-57e4-4347-845e-39fa4de28075",
   "metadata": {
    "slideshow": {
     "slide_type": "subslide"
    },
    "tags": []
   },
   "source": [
    "What was the mass of the average meterorite?\n",
    "\n",
    "*(Note, the mean is being skewed upwards by some very heavy meteorites &ndash; the distribution is [right-skewed or positive-skewed](https://www.analyticsvidhya.com/blog/2020/07/what-is-skewness-statistics/))*"
   ]
  },
  {
   "cell_type": "code",
   "execution_count": null,
   "id": "b998653e-02dd-4540-ba66-dbc4b458b558",
   "metadata": {},
   "outputs": [],
   "source": [
    "meteorites['mass (g)'].mean()"
   ]
  },
  {
   "cell_type": "markdown",
   "id": "7b0162c6-f48f-4687-9902-72325ebecc0d",
   "metadata": {
    "slideshow": {
     "slide_type": "subslide"
    },
    "tags": []
   },
   "source": [
    "Taking a look at some quantiles at the extremes of the distribution shows that the mean is between the 95th and 99th percentile of the distribution, so it isn't a good measure of central tendency here"
   ]
  },
  {
   "cell_type": "code",
   "execution_count": null,
   "id": "b7379492-da17-4358-b357-2ae6e1a26e67",
   "metadata": {},
   "outputs": [],
   "source": [
    "meteorites['mass (g)'].quantile([0.01, 0.05, 0.5, 0.95, 0.99])"
   ]
  },
  {
   "cell_type": "markdown",
   "id": "2ca1c739-cf2b-4000-bedb-b66a3d11f071",
   "metadata": {
    "slideshow": {
     "slide_type": "fragment"
    },
    "tags": []
   },
   "source": [
    "A better measure in this case is the median (50th percentile), since it is robust to outliers:"
   ]
  },
  {
   "cell_type": "code",
   "execution_count": null,
   "id": "bc2e62f3-899d-4a50-a2f4-8b2e73e1bc2f",
   "metadata": {},
   "outputs": [],
   "source": [
    "meteorites['mass (g)'].median()"
   ]
  },
  {
   "cell_type": "markdown",
   "id": "eebd8f14-f25b-453e-8d74-6e4b4d57aea2",
   "metadata": {
    "slideshow": {
     "slide_type": "subslide"
    },
    "tags": []
   },
   "source": [
    "What was the mass of the heaviest meteorite?"
   ]
  },
  {
   "cell_type": "code",
   "execution_count": null,
   "id": "585af605-e601-49b6-bd1f-4838ab993302",
   "metadata": {},
   "outputs": [],
   "source": [
    "meteorites['mass (g)'].max()"
   ]
  },
  {
   "cell_type": "markdown",
   "id": "6cb28eaf-0850-48f6-87c9-db3d8327e759",
   "metadata": {
    "slideshow": {
     "slide_type": "fragment"
    },
    "tags": []
   },
   "source": [
    "Let's extract the information on this meteorite:\n",
    "\n",
    "*(Note, `idxmax()` is a method that returns an index of the maximum entry)*"
   ]
  },
  {
   "cell_type": "code",
   "execution_count": null,
   "id": "29720ccc-3855-42f7-a0d0-e41a83cf1bef",
   "metadata": {},
   "outputs": [],
   "source": [
    "meteorites.loc[meteorites['mass (g)'].idxmax()]"
   ]
  },
  {
   "cell_type": "markdown",
   "id": "f2deea52-a1f9-4b5f-80bb-5074862783ec",
   "metadata": {
    "slideshow": {
     "slide_type": "subslide"
    },
    "tags": []
   },
   "source": [
    "How many different types of meteorite classes are represented in this dataset?\n",
    "\n",
    "*(Note, check out [this Wikipedia article](https://en.wikipedia.org/wiki/Meteorite_classification) for some information on meteorite classes.)*"
   ]
  },
  {
   "cell_type": "code",
   "execution_count": null,
   "id": "79c2a1db-0eeb-4173-964a-a38741c059ba",
   "metadata": {},
   "outputs": [],
   "source": [
    "print(meteorites.recclass.nunique()) # display number of classes\n",
    "\n",
    "print(meteorites.recclass.unique()[:14]) # display a few examples of the unique classes"
   ]
  },
  {
   "cell_type": "markdown",
   "id": "a0755e36-3761-4eb1-a91d-0d6abe9e672f",
   "metadata": {
    "slideshow": {
     "slide_type": "subslide"
    },
    "tags": []
   },
   "source": [
    "We can get common summary statistics for all columns at once. By default (i.e., not removing *include='all'*), this will only be numeric columns, but here, we will summarize everything together:\n",
    "\n",
    "*(Note, `NaN` values signify missing data. For instance, the `fall` column contains strings, so there is no value for `mean`; likewise, `mass (g)` is numeric, so we don't have entries for the categorical summary statistics (`unique`, `top`, `freq`).)*"
   ]
  },
  {
   "cell_type": "code",
   "execution_count": null,
   "id": "f0297d45-1d86-411f-ad8e-74cfaa3b2389",
   "metadata": {},
   "outputs": [],
   "source": [
    "meteorites.describe(include='all')"
   ]
  },
  {
   "cell_type": "markdown",
   "id": "7b290818-09d8-4646-94e3-b14f88d25b43",
   "metadata": {
    "slideshow": {
     "slide_type": "subslide"
    },
    "tags": []
   },
   "source": [
    "Check out the documentation for more descriptive statistics:\n",
    "\n",
    "- [DataFrame Stats](https://pandas.pydata.org/docs/reference/frame.html#computations-descriptive-stats)"
   ]
  },
  {
   "cell_type": "markdown",
   "id": "befe4bc1",
   "metadata": {},
   "source": [
    "#### Check out lesson 1 the [workbook](./workbook.ipynb) for practice examples"
   ]
  }
 ],
 "metadata": {
  "kernelspec": {
   "display_name": "Python 3 (ipykernel)",
   "language": "python",
   "name": "python3"
  },
  "language_info": {
   "codemirror_mode": {
    "name": "ipython",
    "version": 3
   },
   "file_extension": ".py",
   "mimetype": "text/x-python",
   "name": "python",
   "nbconvert_exporter": "python",
   "pygments_lexer": "ipython3",
   "version": "3.9.18"
  }
 },
 "nbformat": 4,
 "nbformat_minor": 5
}
